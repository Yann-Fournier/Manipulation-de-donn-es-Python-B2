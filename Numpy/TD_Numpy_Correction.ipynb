{
 "cells": [
  {
   "cell_type": "markdown",
   "metadata": {},
   "source": [
    "# Travaux Dirigés sur Numpy Correction"
   ]
  },
  {
   "cell_type": "markdown",
   "metadata": {},
   "source": [
    "## Partie 1"
   ]
  },
  {
   "cell_type": "markdown",
   "metadata": {},
   "source": [
    "### Exercice 1 : Création et Manipulation de Tableaux Numpy\n",
    "\n",
    "1. Créez un tableau numpy à une dimension contenant les nombres de 0 à 9.\n",
    "\n",
    "2. Créez un tableau numpy à deux dimensions (3x3) rempli de valeurs booléennes True.\n",
    "\n",
    "3. Créez un tableau numpy à une dimension de taille 10, rempli de nombres aléatoires entre 0 et 1.\n",
    "\n",
    "### Solution 1 :"
   ]
  },
  {
   "cell_type": "code",
   "execution_count": 1,
   "metadata": {},
   "outputs": [
    {
     "name": "stdout",
     "output_type": "stream",
     "text": [
      "[0 1 2 3 4 5 6 7 8 9]\n",
      "[[ True  True  True]\n",
      " [ True  True  True]\n",
      " [ True  True  True]]\n"
     ]
    },
    {
     "data": {
      "text/plain": [
       "array([0.6195507 , 0.05004987, 0.99955282, 0.88608984, 0.23305772,\n",
       "       0.34378416, 0.42259976, 0.75302104, 0.22401783, 0.86192472])"
      ]
     },
     "execution_count": 1,
     "metadata": {},
     "output_type": "execute_result"
    }
   ],
   "source": [
    "# Exercice 1\n",
    "import numpy as np\n",
    "\n",
    "# Question 1\n",
    "arr1 = np.arange(10)\n",
    "print(arr1)\n",
    "\n",
    "# Question 2\n",
    "arr2 = np.full((3, 3), True, dtype=bool)\n",
    "print(arr2)\n",
    "\n",
    "# Question 3\n",
    "arr3 = np.random.rand(10)\n",
    "arr3"
   ]
  },
  {
   "cell_type": "markdown",
   "metadata": {},
   "source": [
    "### Exercice 2 : Accès et Modification d'Éléments\n",
    "\n",
    "1. À l'aide du tableau créé dans la question 1 de l'exercice précédent, remplacez tous les éléments pairs par -1.\n",
    "\n",
    "2. Accédez à l'élément situé à la deuxième ligne et troisième colonne du tableau créé dans la question 2 de l'exercice précédent.\n",
    "\n",
    "3. Créez un tableau numpy à deux dimensions (4x4) et remplacez la dernière colonne par la somme des trois premières colonnes.\n",
    "\n",
    "### Solution 2 :"
   ]
  },
  {
   "cell_type": "code",
   "execution_count": 18,
   "metadata": {},
   "outputs": [
    {
     "name": "stdout",
     "output_type": "stream",
     "text": [
      "[-1  1 -1  3 -1  5 -1  7 -1  9]\n",
      "True\n",
      "[[0.77488119 0.05609281 0.72384682 0.22057142]\n",
      " [0.71744609 0.37817593 0.53086058 0.68520117]\n",
      " [0.58441469 0.87235098 0.31123198 0.12033376]\n",
      " [0.67485898 0.65508982 0.17303011 0.94826327]]\n",
      "\n",
      "[[0.77488119 0.05609281 0.72384682]\n",
      " [0.71744609 0.37817593 0.53086058]\n",
      " [0.58441469 0.87235098 0.31123198]\n",
      " [0.67485898 0.65508982 0.17303011]]\n",
      "\n",
      "[1.55482082 1.6264826  1.76799766 1.5029789 ]\n",
      "\n",
      "[[0.77488119 0.05609281 0.72384682 1.55482082]\n",
      " [0.71744609 0.37817593 0.53086058 1.6264826 ]\n",
      " [0.58441469 0.87235098 0.31123198 1.76799766]\n",
      " [0.67485898 0.65508982 0.17303011 1.5029789 ]]\n"
     ]
    }
   ],
   "source": [
    "# Exercice 2\n",
    "# Utilisez les résultats de l'exercice précédent\n",
    "\n",
    "# Question 1\n",
    "arr1[arr1 % 2 == 0] = -1\n",
    "print(arr1)\n",
    "\n",
    "# Question 2\n",
    "element = arr2[1, 2]\n",
    "print(element)\n",
    "\n",
    "# Question 3\n",
    "arr3 = np.random.rand(4, 4)\n",
    "print(arr3)\n",
    "print()\n",
    "print(arr3[:, :-1])\n",
    "print()\n",
    "print(np.sum(arr3[:, :-1], axis=1))\n",
    "print()\n",
    "arr3[:, -1] = np.sum(arr3[:, :-1], axis=1)\n",
    "print(arr3)"
   ]
  },
  {
   "cell_type": "markdown",
   "metadata": {},
   "source": [
    "### Exercice 3 : Opérations Avancées\n",
    "\n",
    "1. Créez deux tableaux numpy de taille 5 avec des valeurs aléatoires, puis effectuez leur produit matriciel.\n",
    "\n",
    "2. Créez une fonction qui prend un tableau numpy en entrée et renvoie le tableau résultant de l'application de la fonction sinus à chaque élément.\n",
    "\n",
    "3. Créez un tableau numpy à deux dimensions (5x5) avec des valeurs aléatoires, puis normalisez-le de manière à ce que la somme de chaque ligne soit égale à 1.\n",
    "\n",
    "### Solution 3 :"
   ]
  },
  {
   "cell_type": "code",
   "execution_count": 20,
   "metadata": {},
   "outputs": [
    {
     "name": "stdout",
     "output_type": "stream",
     "text": [
      "[[1.11202292 1.6097204  2.15618333 1.06129756 1.72116363]\n",
      " [1.69785513 1.53749518 2.5232975  1.32044486 2.24535483]\n",
      " [0.94758818 0.89286144 1.88745951 0.54103703 1.65320347]\n",
      " [1.27374093 1.05578387 1.39457602 0.87237844 1.38787201]\n",
      " [1.02621623 1.29290529 2.14924998 0.92307223 1.72911301]]\n",
      "\n",
      "[[0.11998267 0.00729971 0.27424427 0.28293551 0.31553784]\n",
      " [0.37085364 0.04625968 0.36233043 0.21418274 0.00637352]\n",
      " [0.1139248  0.29021545 0.24717723 0.15788399 0.19079852]\n",
      " [0.16382707 0.11650902 0.06757376 0.12857629 0.52351386]\n",
      " [0.12241096 0.20652068 0.03006983 0.31944883 0.3215497 ]]\n"
     ]
    }
   ],
   "source": [
    "# Exercice 3\n",
    "# Utilisez les résultats des exercices précédents\n",
    "\n",
    "# Question 1\n",
    "matrix1 = np.random.rand(5, 5)\n",
    "matrix2 = np.random.rand(5, 5)\n",
    "product_matrix = np.dot(matrix1, matrix2)\n",
    "print(product_matrix)\n",
    "\n",
    "# Question 2\n",
    "def apply_sin(arr):\n",
    "    return np.sin(arr)\n",
    "\n",
    "# Question 3\n",
    "random_matrix = np.random.rand(5, 5)\n",
    "normalized_matrix = random_matrix / random_matrix.sum(axis=1, keepdims=True)\n",
    "print()\n",
    "print(normalized_matrix)"
   ]
  },
  {
   "cell_type": "markdown",
   "metadata": {},
   "source": [
    "## Partie 2"
   ]
  },
  {
   "cell_type": "markdown",
   "metadata": {},
   "source": [
    "### Exercice 1 : Création de Tableaux Numpy\n",
    "\n",
    "1. Créez un tableau numpy à une dimension avec les nombres de 1 à 10.\n",
    "\n",
    "2. Créez un tableau numpy à deux dimensions (3x4) avec des nombres aléatoires entre 0 et 1.\n",
    "\n",
    "### Solution 1 :"
   ]
  },
  {
   "cell_type": "code",
   "execution_count": 24,
   "metadata": {},
   "outputs": [
    {
     "name": "stdout",
     "output_type": "stream",
     "text": [
      "[ 1  2  3  4  5  6  7  8  9 10]\n",
      "\n",
      "[[0.00964684 0.5634973  0.08196417 0.512088  ]\n",
      " [0.83094329 0.46319326 0.9946436  0.21591894]\n",
      " [0.24157615 0.28527461 0.75279231 0.48435411]]\n"
     ]
    }
   ],
   "source": [
    "# Question 1\n",
    "arr1 = np.arange(1, 11)\n",
    "print(arr1)\n",
    "print()\n",
    "# Question 2\n",
    "arr2 = np.random.rand(3, 4)\n",
    "print(arr2)"
   ]
  },
  {
   "cell_type": "markdown",
   "metadata": {},
   "source": [
    "### Exercice 2 : Manipulation de Tableaux Numpy\n",
    "\n",
    "1. Inversez l'ordre des éléments dans le tableau créé dans la question 1 de l'exercice précédent.\n",
    "\n",
    "2. Trouvez la moyenne du tableau créé dans la question 2 de l'exercice précédent.\n",
    "\n",
    "### Solution 2 :"
   ]
  },
  {
   "cell_type": "code",
   "execution_count": 25,
   "metadata": {},
   "outputs": [
    {
     "name": "stdout",
     "output_type": "stream",
     "text": [
      "[10  9  8  7  6  5  4  3  2  1]\n",
      "0.452991047718581\n"
     ]
    }
   ],
   "source": [
    "# Utilisez les résultats de l'exercice précédent\n",
    "\n",
    "# Question 1\n",
    "arr1_reverse = np.flip(arr1)\n",
    "print(arr1_reverse)\n",
    "# Question 2\n",
    "mean_arr2 = np.mean(arr2)\n",
    "print(mean_arr2)"
   ]
  },
  {
   "cell_type": "markdown",
   "metadata": {},
   "source": [
    "### Exercice 3 : Opérations Avancées\n",
    "\n",
    "1. Créez une fonction qui prend deux tableaux numpy en entrée et renvoie leur concaténation horizontale.\n",
    "\n",
    "2. Créez un tableau numpy à deux dimensions (4x5) avec des valeurs aléatoires, puis remplacez toutes les valeurs inférieures à la moyenne par 0.\n",
    "\n",
    "### Solution 3 :"
   ]
  },
  {
   "cell_type": "code",
   "execution_count": 29,
   "metadata": {},
   "outputs": [
    {
     "name": "stdout",
     "output_type": "stream",
     "text": [
      "[[0. 0. 0. 1.]\n",
      " [0. 0. 0. 1.]]\n",
      "\n",
      "[[0.66850037 0.1895272  0.34258349 0.03851585 0.53065659]\n",
      " [0.87318684 0.73553374 0.75063405 0.61792055 0.42833607]\n",
      " [0.42524372 0.11446207 0.9562565  0.66670504 0.42556742]\n",
      " [0.91293416 0.28827756 0.58475232 0.75429617 0.50968061]]\n",
      "\n",
      "[[0.66850037 0.         0.         0.         0.        ]\n",
      " [0.87318684 0.73553374 0.75063405 0.61792055 0.        ]\n",
      " [0.         0.         0.9562565  0.66670504 0.        ]\n",
      " [0.91293416 0.         0.58475232 0.75429617 0.        ]]\n"
     ]
    }
   ],
   "source": [
    "# Utilisez les résultats des exercices précédents\n",
    "\n",
    "# Question 1\n",
    "def horizontal_concat(arr1, arr2):\n",
    "    return np.hstack((arr1, arr2))\n",
    "\n",
    "print(horizontal_concat(np.zeros((2,3)), np.ones((2,1))))\n",
    "# Question 2\n",
    "random_matrix = np.random.rand(4, 5)\n",
    "print()\n",
    "print(random_matrix)\n",
    "\n",
    "mean_value = np.mean(random_matrix)\n",
    "random_matrix[random_matrix < mean_value] = 0\n",
    "\n",
    "\n",
    "print()\n",
    "print(random_matrix)"
   ]
  },
  {
   "cell_type": "markdown",
   "metadata": {},
   "source": [
    "### Exercice 4 : Manipulation de Tableaux 3D\n",
    "\n",
    "1. Créez un tableau numpy à trois dimensions (2x3x4) avec des nombres entiers aléatoires entre 1 et 100.\n",
    "\n",
    "2. Trouvez la somme des éléments le long de l'axe des colonnes pour le tableau créé dans la question 1.\n",
    "\n",
    "### Solution 4 :"
   ]
  },
  {
   "cell_type": "code",
   "execution_count": 33,
   "metadata": {},
   "outputs": [
    {
     "name": "stdout",
     "output_type": "stream",
     "text": [
      "\n",
      "[[[23 37 49 11]\n",
      "  [17 58 95 49]\n",
      "  [88 74 51 46]]\n",
      "\n",
      " [[70 96 78 53]\n",
      "  [58 84 63 74]\n",
      "  [26 57 98 63]]]\n",
      "\n",
      "[[128 169 195 106]\n",
      " [154 237 239 190]]\n"
     ]
    }
   ],
   "source": [
    "# Question 1\n",
    "arr_3d = np.random.randint(1, 101, (2, 3, 4))\n",
    "print()\n",
    "print(arr_3d)\n",
    "\n",
    "# Question 2\n",
    "sum_along_columns = np.sum(arr_3d, axis=1)\n",
    "print()\n",
    "print(sum_along_columns)"
   ]
  },
  {
   "cell_type": "markdown",
   "metadata": {},
   "source": [
    "### Exercice 5 : Broadcasting\n",
    "\n",
    "1. Créez un tableau numpy à deux dimensions (5x3) avec des nombres aléatoires entre 1 et 10.\n",
    "\n",
    "2. Ajoutez un tableau numpy à une dimension (1x3) à chaque ligne du tableau créé dans la question 1.\n",
    "\n",
    "### Solution 5 :"
   ]
  },
  {
   "cell_type": "code",
   "execution_count": 36,
   "metadata": {},
   "outputs": [
    {
     "name": "stdout",
     "output_type": "stream",
     "text": [
      "[[ 8  6  7]\n",
      " [ 3 10  3]\n",
      " [ 1  5  9]\n",
      " [ 8  3  5]\n",
      " [ 6  1  9]]\n",
      "\n",
      "[[ 9  8 10]\n",
      " [ 4 12  6]\n",
      " [ 2  7 12]\n",
      " [ 9  5  8]\n",
      " [ 7  3 12]]\n"
     ]
    }
   ],
   "source": [
    "# Question 1\n",
    "arr_broadcasting = np.random.randint(1, 11, (5, 3))\n",
    "print(arr_broadcasting)\n",
    "\n",
    "# Question 2\n",
    "arr_to_add = np.array([1, 2, 3])\n",
    "result_broadcasting = arr_broadcasting + arr_to_add\n",
    "print()\n",
    "print(result_broadcasting)"
   ]
  },
  {
   "cell_type": "markdown",
   "metadata": {},
   "source": [
    "### Exercice 6 : Opérations Matricielles\n",
    "\n",
    "1. Créez deux matrices numpy de taille 3x3 avec des valeurs aléatoires.\n",
    "\n",
    "2. Calculez l'inverse de la première matrice créée dans la question 1.\n",
    "\n",
    "### Solution 6 :"
   ]
  },
  {
   "cell_type": "code",
   "execution_count": 35,
   "metadata": {},
   "outputs": [
    {
     "name": "stdout",
     "output_type": "stream",
     "text": [
      "[[0.47540124 0.92885537 0.74886658]\n",
      " [0.57747893 0.48637069 0.63872623]\n",
      " [0.10642694 0.05381592 0.98676014]]\n",
      "\n",
      "[[0.47540124 0.92885537 0.74886658]\n",
      " [0.57747893 0.48637069 0.63872623]\n",
      " [0.10642694 0.05381592 0.98676014]]\n"
     ]
    }
   ],
   "source": [
    "# Question 1\n",
    "matrix1 = np.random.rand(3, 3)\n",
    "matrix2 = np.random.rand(3, 3)\n",
    "print(matrix1)\n",
    "# Question 2\n",
    "inverse_matrix1 = np.linalg.inv(matrix1)\n",
    "print()\n",
    "print(matrix1)"
   ]
  },
  {
   "cell_type": "markdown",
   "metadata": {},
   "source": [
    "### Exercice 7 : Opérations Avancées\n",
    "\n",
    "1. Créez une fonction qui prend un tableau numpy à deux dimensions en entrée et renvoie un nouveau tableau où chaque élément est élevé à la puissance de son indice de colonne.\n",
    "\n",
    "2. Créez un tableau numpy à deux dimensions (5x5) avec des nombres aléatoires, puis remplacez chaque élément par la valeur maximale de sa ligne.\n",
    "\n",
    "### Solution 7 :"
   ]
  },
  {
   "cell_type": "code",
   "execution_count": 52,
   "metadata": {},
   "outputs": [
    {
     "name": "stdout",
     "output_type": "stream",
     "text": [
      "[[ 1  4 25]\n",
      " [ 1  2 36]]\n",
      "\n",
      "[[0.33274452 0.90512442 0.34203256 0.62950872 0.9039496 ]\n",
      " [0.0050944  0.64923003 0.58043603 0.20444003 0.3412074 ]\n",
      " [0.6563893  0.76897372 0.60202701 0.57585264 0.46232758]\n",
      " [0.9827572  0.87438235 0.69921137 0.65162671 0.74430068]\n",
      " [0.32628966 0.66099397 0.35207268 0.67928013 0.84810414]]\n",
      "\n",
      "[[0.90512442]\n",
      " [0.64923003]\n",
      " [0.76897372]\n",
      " [0.9827572 ]\n",
      " [0.84810414]]\n",
      "\n",
      "[[0.90512442 0.90512442 0.90512442 0.90512442 0.90512442]\n",
      " [0.64923003 0.64923003 0.64923003 0.64923003 0.64923003]\n",
      " [0.76897372 0.76897372 0.76897372 0.76897372 0.76897372]\n",
      " [0.9827572  0.9827572  0.9827572  0.9827572  0.9827572 ]\n",
      " [0.84810414 0.84810414 0.84810414 0.84810414 0.84810414]]\n"
     ]
    }
   ],
   "source": [
    "# Question 1\n",
    "def power_by_column_index(arr):\n",
    "    return arr ** np.arange(arr.shape[1])\n",
    "\n",
    "arr = np.array([[1,4, 5], [3, 2, 6]])\n",
    "print(power_by_column_index(arr))\n",
    "\n",
    "# Question 2\n",
    "random_matrix_advanced = np.random.rand(5, 5)\n",
    "print()\n",
    "print(random_matrix_advanced)\n",
    "max_values_per_row = np.max(random_matrix_advanced, axis=1, keepdims=True)\n",
    "print()\n",
    "print(max_values_per_row)\n",
    "for i in range(random_matrix_advanced.shape[0]):\n",
    "    random_matrix_advanced[i, :] = max_values_per_row[i, 0]\n",
    "print()\n",
    "print(random_matrix_advanced)"
   ]
  },
  {
   "cell_type": "markdown",
   "metadata": {},
   "source": [
    "### Exercice 8 : Manipulation de Chaînes de Caractères avec Numpy\n",
    "\n",
    "1. Créez un tableau numpy à une dimension contenant cinq noms différents sous forme de chaînes de caractères.\n",
    "\n",
    "2. Ajoutez le préfixe \"M.\" à chaque nom dans le tableau créé dans la question 1.\n",
    "\n",
    "### Solution 8 :"
   ]
  },
  {
   "cell_type": "code",
   "execution_count": 53,
   "metadata": {},
   "outputs": [
    {
     "name": "stdout",
     "output_type": "stream",
     "text": [
      "['M. Alice' 'M. Bob' 'M. Charlie' 'M. David' 'M. Eve']\n"
     ]
    }
   ],
   "source": [
    "# Question 1\n",
    "names_array = np.array([\"Alice\", \"Bob\", \"Charlie\", \"David\", \"Eve\"])\n",
    "\n",
    "# Question 2\n",
    "names_with_prefix = np.core.defchararray.add(\"M. \", names_array)\n",
    "print(names_with_prefix)"
   ]
  },
  {
   "cell_type": "markdown",
   "metadata": {},
   "source": [
    "### Exercice 9 : Opérations Logiques avec Numpy\n",
    "\n",
    "1. Créez un tableau numpy à une dimension contenant des valeurs aléatoires entières entre 0 et 10.\n",
    "\n",
    "2. Remplacez toutes les valeurs supérieures à 5 par 1 et toutes les autres valeurs par 0.\n",
    "\n",
    "### Solution 9 :"
   ]
  },
  {
   "cell_type": "code",
   "execution_count": 54,
   "metadata": {},
   "outputs": [
    {
     "name": "stdout",
     "output_type": "stream",
     "text": [
      "[7 7 8 5 5 6 7 8 0 3]\n",
      "\n",
      "[1 1 1 0 0 1 1 1 0 0]\n"
     ]
    }
   ],
   "source": [
    "# Question 1\n",
    "random_integers = np.random.randint(0, 11, 10)\n",
    "print(random_integers)\n",
    "\n",
    "# Question 2\n",
    "binary_array = np.where(random_integers > 5, 1, 0)\n",
    "print()\n",
    "print(binary_array)"
   ]
  },
  {
   "cell_type": "markdown",
   "metadata": {},
   "source": [
    "### Exercice 10 : Manipulation Avancée avec Numpy\n",
    "\n",
    "1. Créez un tableau numpy à deux dimensions (4x6) avec des nombres entiers aléatoires entre -10 et 10.\n",
    "\n",
    "2. Remplacez toutes les valeurs négatives par zéro, multipliez toutes les valeurs positives par 2, et transposez finalement la matrice.\n",
    "\n",
    "### Solution 10 :"
   ]
  },
  {
   "cell_type": "code",
   "execution_count": 56,
   "metadata": {},
   "outputs": [
    {
     "name": "stdout",
     "output_type": "stream",
     "text": [
      "[[-6  5 -8  5 -2  3]\n",
      " [-3 -8  1 -4  8 -6]\n",
      " [-4 -4  4 -6 -3  3]\n",
      " [ 8 -7  5 -7 -6 -3]]\n",
      "\n",
      "[[ 0 10  0 10  0  6]\n",
      " [ 0  0  2  0 16  0]\n",
      " [ 0  0  8  0  0  6]\n",
      " [16  0 10  0  0  0]]\n",
      "\n",
      "[[ 0  0  0 16]\n",
      " [10  0  0  0]\n",
      " [ 0  2  8 10]\n",
      " [10  0  0  0]\n",
      " [ 0 16  0  0]\n",
      " [ 6  0  6  0]]\n"
     ]
    }
   ],
   "source": [
    "# Question 1\n",
    "random_int_matrix = np.random.randint(-10, 11, (4, 6))\n",
    "print(random_int_matrix)\n",
    "\n",
    "# Question 2\n",
    "processed_matrix = np.where(random_int_matrix < 0, 0, random_int_matrix * 2)\n",
    "print()\n",
    "print(processed_matrix)\n",
    "transposed_matrix = processed_matrix.T\n",
    "print()\n",
    "print(transposed_matrix)"
   ]
  },
  {
   "cell_type": "markdown",
   "metadata": {},
   "source": [
    "### Exercice 11 : Calcul de la Moyenne et de l'Écart-Type\n",
    "\n",
    "1. Créez un tableau numpy à une dimension contenant 10 valeurs aléatoires.\n",
    "\n",
    "2. Calculez la moyenne et l'écart-type du tableau.\n",
    "\n",
    "### Solution 11 :"
   ]
  },
  {
   "cell_type": "code",
   "execution_count": 58,
   "metadata": {},
   "outputs": [
    {
     "name": "stdout",
     "output_type": "stream",
     "text": [
      "-0.06090642605297545\n",
      "0.839057034593385\n"
     ]
    }
   ],
   "source": [
    "# Question 1\n",
    "random_values = np.random.randn(10)\n",
    "\n",
    "# Question 2\n",
    "mean_value = np.mean(random_values)\n",
    "print(mean_value)\n",
    "std_deviation = np.std(random_values)\n",
    "print(std_deviation)"
   ]
  },
  {
   "cell_type": "markdown",
   "metadata": {},
   "source": [
    "### Exercice 12 : Opérations sur les Indicateurs Booléens\n",
    "\n",
    "1. Créez un tableau numpy à une dimension avec des valeurs entières aléatoires entre 0 et 9.\n",
    "\n",
    "2. Identifiez et comptez le nombre d'éléments pairs dans le tableau.\n",
    "\n",
    "### Solution 12 :"
   ]
  },
  {
   "cell_type": "code",
   "execution_count": 60,
   "metadata": {},
   "outputs": [
    {
     "name": "stdout",
     "output_type": "stream",
     "text": [
      "[5 9 6 4 4 3 2 9 7 6]\n",
      "\n",
      "5\n"
     ]
    }
   ],
   "source": [
    "# Question 1\n",
    "random_integers = np.random.randint(0, 10, 10)\n",
    "print(random_integers)\n",
    "\n",
    "# Question 2\n",
    "even_count = np.sum(random_integers % 2 == 0)\n",
    "print()\n",
    "print(even_count)"
   ]
  },
  {
   "cell_type": "markdown",
   "metadata": {},
   "source": [
    "### Exercice 13 : Manipulation de Tableaux 3D\n",
    "\n",
    "1. Créez un tableau numpy à trois dimensions (3x4x5) avec des valeurs aléatoires.\n",
    "\n",
    "2. Calculez la somme des valeurs le long de chaque dimension.\n",
    "\n",
    "### Solution 13 :"
   ]
  },
  {
   "cell_type": "code",
   "execution_count": 62,
   "metadata": {},
   "outputs": [
    {
     "name": "stdout",
     "output_type": "stream",
     "text": [
      "[[[-0.71926495  0.50735249  1.71045502  0.87377169 -0.7752877 ]\n",
      "  [-0.02740361 -0.16868233  0.62967457  0.07235857 -0.18860246]\n",
      "  [ 1.6136198   0.06388794 -0.43442617  0.49800674 -0.09277891]\n",
      "  [ 0.06077013 -0.51530334  1.05147599 -0.06486952  1.09216126]]\n",
      "\n",
      " [[-0.63870115  1.11416398  0.86912529 -0.59102953  0.36856317]\n",
      "  [-0.41043158  0.3020394   1.94251709 -1.34364824  0.37651562]\n",
      "  [-0.21899962  0.17136468  0.13174876  0.43264464 -0.81948117]\n",
      "  [-0.91806483  0.16625548 -1.86094673 -0.30460057 -0.87583529]]\n",
      "\n",
      " [[ 2.18037599  2.20024431  0.690864   -1.87053972  0.54119551]\n",
      "  [-0.99143881  4.65298258  0.5789475  -0.93702385 -0.04096232]\n",
      "  [-0.07851068  0.38437603 -0.75310735  0.07621851 -1.54929973]\n",
      "  [ 0.28047859 -0.54579463  0.15613512  0.01027923 -0.04895757]]]\n",
      "\n",
      "8.016577328416322\n",
      "8.016577328416322\n"
     ]
    }
   ],
   "source": [
    "# Question 1\n",
    "random_3d_array = np.random.randn(3, 4, 5)\n",
    "print(random_3d_array)\n",
    "\n",
    "# Question 2\n",
    "sum_along_axes = np.sum(random_3d_array, axis=(0, 1, 2))\n",
    "print()\n",
    "print(sum_along_axes)\n",
    "print(np.sum(random_3d_array))"
   ]
  },
  {
   "cell_type": "markdown",
   "metadata": {},
   "source": [
    "### Exercice 14 : Opérations avec des Indices\n",
    "\n",
    "1. Créez un tableau numpy à une dimension contenant 20 éléments de 0 à 19.\n",
    "\n",
    "2. Obtenez les indices des éléments qui sont des carrés parfaits (ex. 0, 1, 4, 9, ...).\n",
    "\n",
    "### Solution 14 :"
   ]
  },
  {
   "cell_type": "code",
   "execution_count": 3,
   "metadata": {},
   "outputs": [
    {
     "name": "stdout",
     "output_type": "stream",
     "text": [
      "[ 0  1  2  3  4  5  6  7  8  9 10 11 12 13 14 15 16 17 18 19]\n",
      "\n",
      "[ 0  1  4  9 16]\n"
     ]
    }
   ],
   "source": [
    "# Question 1\n",
    "linear_array = np.arange(20)\n",
    "print(linear_array)\n",
    "\n",
    "# Question 2\n",
    "perfect_square_indices = np.where(np.sqrt(linear_array) % 1 == 0)[0]\n",
    "print()\n",
    "print(perfect_square_indices)"
   ]
  },
  {
   "cell_type": "markdown",
   "metadata": {},
   "source": [
    "### Exercice 15 : Opérations de Transformation\n",
    "\n",
    "1. Créez un tableau numpy à deux dimensions (5x6) avec des valeurs aléatoires entières entre -50 et 50.\n",
    "\n",
    "2. Soustrayez la moyenne de chaque colonne du tableau.\n",
    "\n",
    "### Solution 15 :"
   ]
  },
  {
   "cell_type": "code",
   "execution_count": 65,
   "metadata": {},
   "outputs": [
    {
     "name": "stdout",
     "output_type": "stream",
     "text": [
      "[[ 36  32 -36  -8  -8 -41]\n",
      " [  6 -15 -43 -25  27   5]\n",
      " [-16 -27  19  -8 -34 -15]\n",
      " [  9   0  43   6  29  49]\n",
      " [ 33 -42  45  24  -4 -50]]\n",
      "\n",
      "[[ 22.4  42.4 -41.6  -5.8 -10.  -30.6]\n",
      " [ -7.6  -4.6 -48.6 -22.8  25.   15.4]\n",
      " [-29.6 -16.6  13.4  -5.8 -36.   -4.6]\n",
      " [ -4.6  10.4  37.4   8.2  27.   59.4]\n",
      " [ 19.4 -31.6  39.4  26.2  -6.  -39.6]]\n"
     ]
    }
   ],
   "source": [
    "# Question 1\n",
    "random_int_matrix = np.random.randint(-50, 51, (5, 6))\n",
    "print(random_int_matrix)\n",
    "\n",
    "# Question 2\n",
    "mean_per_column = np.mean(random_int_matrix, axis=0)\n",
    "transformed_matrix = random_int_matrix - mean_per_column\n",
    "print()\n",
    "print(transformed_matrix)"
   ]
  }
 ],
 "metadata": {
  "kernelspec": {
   "display_name": "Python 3",
   "language": "python",
   "name": "python3"
  },
  "language_info": {
   "codemirror_mode": {
    "name": "ipython",
    "version": 3
   },
   "file_extension": ".py",
   "mimetype": "text/x-python",
   "name": "python",
   "nbconvert_exporter": "python",
   "pygments_lexer": "ipython3",
   "version": "3.12.0"
  }
 },
 "nbformat": 4,
 "nbformat_minor": 2
}
