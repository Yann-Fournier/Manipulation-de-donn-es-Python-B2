{
 "cells": [
  {
   "cell_type": "markdown",
   "metadata": {},
   "source": [
    "### Création des données factices :"
   ]
  },
  {
   "cell_type": "code",
   "execution_count": 10,
   "metadata": {},
   "outputs": [],
   "source": [
    "import pandas as pd\n",
    "import numpy as np\n",
    "import matplotlib.pyplot as plt\n",
    "\n",
    "# Création d'un DataFrame factice avec des données aléatoires\n",
    "np.random.seed(42)\n",
    "date = pd.date_range(start='2022-01-01', end='2022-04-15')\n",
    "data = {\n",
    "    'Date': date,\n",
    "    'Ventes': np.random.randint(100, 1000, size=len(date)),\n",
    "    'Produit': np.random.choice(['A', 'B', 'C'], size=len(date))\n",
    "}\n",
    "df = pd.DataFrame(data)"
   ]
  },
  {
   "cell_type": "code",
   "execution_count": 11,
   "metadata": {},
   "outputs": [
    {
     "data": {
      "text/html": [
       "<div>\n",
       "<style scoped>\n",
       "    .dataframe tbody tr th:only-of-type {\n",
       "        vertical-align: middle;\n",
       "    }\n",
       "\n",
       "    .dataframe tbody tr th {\n",
       "        vertical-align: top;\n",
       "    }\n",
       "\n",
       "    .dataframe thead th {\n",
       "        text-align: right;\n",
       "    }\n",
       "</style>\n",
       "<table border=\"1\" class=\"dataframe\">\n",
       "  <thead>\n",
       "    <tr style=\"text-align: right;\">\n",
       "      <th></th>\n",
       "      <th>Date</th>\n",
       "      <th>Ventes</th>\n",
       "      <th>Produit</th>\n",
       "    </tr>\n",
       "  </thead>\n",
       "  <tbody>\n",
       "    <tr>\n",
       "      <th>0</th>\n",
       "      <td>2022-01-01</td>\n",
       "      <td>202</td>\n",
       "      <td>A</td>\n",
       "    </tr>\n",
       "    <tr>\n",
       "      <th>1</th>\n",
       "      <td>2022-01-02</td>\n",
       "      <td>535</td>\n",
       "      <td>A</td>\n",
       "    </tr>\n",
       "    <tr>\n",
       "      <th>2</th>\n",
       "      <td>2022-01-03</td>\n",
       "      <td>960</td>\n",
       "      <td>B</td>\n",
       "    </tr>\n",
       "    <tr>\n",
       "      <th>3</th>\n",
       "      <td>2022-01-04</td>\n",
       "      <td>370</td>\n",
       "      <td>C</td>\n",
       "    </tr>\n",
       "    <tr>\n",
       "      <th>4</th>\n",
       "      <td>2022-01-05</td>\n",
       "      <td>206</td>\n",
       "      <td>A</td>\n",
       "    </tr>\n",
       "  </tbody>\n",
       "</table>\n",
       "</div>"
      ],
      "text/plain": [
       "        Date  Ventes Produit\n",
       "0 2022-01-01     202       A\n",
       "1 2022-01-02     535       A\n",
       "2 2022-01-03     960       B\n",
       "3 2022-01-04     370       C\n",
       "4 2022-01-05     206       A"
      ]
     },
     "execution_count": 11,
     "metadata": {},
     "output_type": "execute_result"
    }
   ],
   "source": [
    "df.head()"
   ]
  },
  {
   "cell_type": "markdown",
   "metadata": {},
   "source": [
    "1. **Tracé d'une série temporelle des ventes** :\n",
    "   Tracez un graphe montrant l'évolution des ventes au fil du temps."
   ]
  },
  {
   "cell_type": "markdown",
   "metadata": {},
   "source": [
    "2. **Histogramme des ventes par produit** :\n",
    "   Tracez un histogramme montrant la répartition des ventes par produit."
   ]
  },
  {
   "cell_type": "markdown",
   "metadata": {},
   "source": [
    "3. **Diagramme circulaire des ventes par produit** :\n",
    "   Tracez un diagramme circulaire montrant la part de chaque produit dans les ventes totales."
   ]
  },
  {
   "cell_type": "markdown",
   "metadata": {},
   "source": [
    "4. **Diagramme en barres des ventes par jour** :\n",
    "   Tracez un diagramme en barres montrant les ventes pour chaque jour."
   ]
  },
  {
   "cell_type": "markdown",
   "metadata": {},
   "source": [
    "5. **Diagramme en secteurs des ventes par mois** :\n",
    "   Tracez un diagramme en secteurs montrant la répartition des ventes par mois."
   ]
  },
  {
   "cell_type": "markdown",
   "metadata": {},
   "source": [
    "6. **Boîte à moustaches des ventes par produit** :\n",
    "   Tracez un diagramme en boîte montrant la distribution des ventes pour chaque produit."
   ]
  },
  {
   "cell_type": "markdown",
   "metadata": {},
   "source": [
    "7. **Violin plot des ventes par produit** :\n",
    "   Tracez un diagramme en violon montrant la distribution des ventes pour chaque produit."
   ]
  },
  {
   "cell_type": "markdown",
   "metadata": {},
   "source": [
    "8. **Heatmap des ventes par jour de la semaine et produit** :\n",
    "   Tracez une heatmap montrant les ventes moyennes par jour de la semaine et produit."
   ]
  },
  {
   "cell_type": "markdown",
   "metadata": {},
   "source": [
    "9. **Tracé de répartition des ventes par produit** :\n",
    "   Tracez un tracé de répartition montrant la distribution des ventes par produit."
   ]
  },
  {
   "cell_type": "markdown",
   "metadata": {},
   "source": [
    "10. **Diagramme en barres des ventes mensuelles cumulatives** :\n",
    "    Tracez un diagramme en barres montrant les ventes mensuelles cumulatives."
   ]
  },
  {
   "cell_type": "markdown",
   "metadata": {},
   "source": [
    "11. **Tracé de répartition des ventes par produit avec seaborn** :\n",
    "    Tracez un tracé de répartition montrant la distribution des ventes par produit."
   ]
  },
  {
   "cell_type": "markdown",
   "metadata": {},
   "source": [
    "12. **Graphique à barres empilées des ventes par produit et par mois** :\n",
    "    Tracez un graphique à barres empilées montrant les ventes par produit pour chaque mois."
   ]
  },
  {
   "cell_type": "markdown",
   "metadata": {},
   "source": [
    "13. **Nuage de points avec régression linéaire des ventes par date** :\n",
    "    Tracez un nuage de points avec une ligne de régression linéaire montrant la relation entre les ventes et la date."
   ]
  },
  {
   "cell_type": "markdown",
   "metadata": {},
   "source": [
    "14. **Tracé de répartition des ventes par produit avec des barres d'erreur** :\n",
    "    Tracez un tracé de répartition avec des barres d'erreur montrant la distribution des ventes par produit."
   ]
  }
 ],
 "metadata": {
  "kernelspec": {
   "display_name": "Python 3",
   "language": "python",
   "name": "python3"
  },
  "language_info": {
   "codemirror_mode": {
    "name": "ipython",
    "version": 3
   },
   "file_extension": ".py",
   "mimetype": "text/x-python",
   "name": "python",
   "nbconvert_exporter": "python",
   "pygments_lexer": "ipython3",
   "version": "3.12.0"
  }
 },
 "nbformat": 4,
 "nbformat_minor": 2
}
