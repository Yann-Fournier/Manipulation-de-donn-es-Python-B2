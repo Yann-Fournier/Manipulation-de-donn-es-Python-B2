{
 "cells": [
  {
   "cell_type": "markdown",
   "metadata": {},
   "source": [
    "# TD PANDAS"
   ]
  },
  {
   "cell_type": "markdown",
   "metadata": {},
   "source": [
    "Commençons par générer les données factices avec la bibliothèque `faker`."
   ]
  },
  {
   "cell_type": "code",
   "execution_count": null,
   "metadata": {},
   "outputs": [],
   "source": [
    "from faker import Faker\n",
    "import pandas as pd\n",
    "import numpy as np\n",
    "\n",
    "# Initialiser l'objet Faker\n",
    "fake = Faker()\n",
    "\n",
    "# Générer 50 noms de personnes aléatoires\n",
    "noms = [fake.name() for _ in range(50)]\n",
    "\n",
    "# Générer 50 âges aléatoires entre 20 et 60\n",
    "ages = [fake.random_int(min=20, max=60) for _ in range(50)]\n",
    "\n",
    "# Générer 50 villes aléatoires parmi Paris, Londres, New York\n",
    "villes = [fake.random_element(elements=('Paris', 'Londres', 'New York')) for _ in range(50)]\n",
    "\n",
    "# Générer 50 salaires aléatoires entre 30,000 et 100,000\n",
    "salaires = [fake.random_int(min=30000, max=100000) for _ in range(50)]\n",
    "\n",
    "# Créer le DataFrame\n",
    "data = {'Nom': noms, 'Age': ages, 'Ville': villes, 'Salaire': salaires}\n",
    "df = pd.DataFrame(data)"
   ]
  },
  {
   "cell_type": "markdown",
   "metadata": {},
   "source": [
    "### Exercice 1\n",
    "Affichez les cinq premières lignes du DataFrame.\n"
   ]
  },
  {
   "cell_type": "code",
   "execution_count": null,
   "metadata": {},
   "outputs": [],
   "source": []
  },
  {
   "cell_type": "markdown",
   "metadata": {},
   "source": [
    "### Exercice 2\n",
    "Affichez le nombre total de lignes et de colonnes dans le DataFrame.\n"
   ]
  },
  {
   "cell_type": "code",
   "execution_count": null,
   "metadata": {},
   "outputs": [],
   "source": []
  },
  {
   "cell_type": "markdown",
   "metadata": {},
   "source": [
    "### Exercice 3\n",
    "Affichez les statistiques descriptives pour la colonne 'Age'.\n"
   ]
  },
  {
   "cell_type": "code",
   "execution_count": null,
   "metadata": {},
   "outputs": [],
   "source": []
  },
  {
   "cell_type": "markdown",
   "metadata": {},
   "source": [
    "### Exercice 4\n",
    "Sélectionnez uniquement les lignes où l'âge est supérieur à 40.\n"
   ]
  },
  {
   "cell_type": "code",
   "execution_count": null,
   "metadata": {},
   "outputs": [],
   "source": []
  },
  {
   "cell_type": "markdown",
   "metadata": {},
   "source": [
    "### Exercice 5\n",
    "Calculez la moyenne du salaire pour chaque ville.\n"
   ]
  },
  {
   "cell_type": "code",
   "execution_count": null,
   "metadata": {},
   "outputs": [],
   "source": []
  },
  {
   "cell_type": "markdown",
   "metadata": {},
   "source": [
    "### Exercice 6\n",
    "Ajoutez une nouvelle colonne 'Prime' avec des valeurs aléatoires entre 500 et 2000."
   ]
  },
  {
   "cell_type": "code",
   "execution_count": null,
   "metadata": {},
   "outputs": [],
   "source": []
  },
  {
   "cell_type": "markdown",
   "metadata": {},
   "source": [
    "### Exercice 7\n",
    "Supprimez la colonne 'Nom' du DataFrame."
   ]
  },
  {
   "cell_type": "code",
   "execution_count": null,
   "metadata": {},
   "outputs": [],
   "source": []
  },
  {
   "cell_type": "markdown",
   "metadata": {},
   "source": [
    "### Exercice 8\n",
    "Triez le DataFrame par âge de manière décroissante."
   ]
  },
  {
   "cell_type": "code",
   "execution_count": null,
   "metadata": {},
   "outputs": [],
   "source": []
  },
  {
   "cell_type": "markdown",
   "metadata": {},
   "source": [
    "### Exercice 9\n",
    "Groupez le DataFrame par ville et calculez la somme du salaire pour chaque ville."
   ]
  },
  {
   "cell_type": "code",
   "execution_count": null,
   "metadata": {},
   "outputs": [],
   "source": []
  },
  {
   "cell_type": "markdown",
   "metadata": {},
   "source": [
    "### Exercice 10\n",
    "Sauvegardez le DataFrame dans un fichier CSV appelé 'donnees.csv'."
   ]
  },
  {
   "cell_type": "code",
   "execution_count": null,
   "metadata": {},
   "outputs": [],
   "source": []
  },
  {
   "cell_type": "markdown",
   "metadata": {},
   "source": [
    "### Exercice 11\n",
    "Importez le DataFrame à partir du fichier CSV 'donnees.csv' que vous venez de créer."
   ]
  },
  {
   "cell_type": "code",
   "execution_count": null,
   "metadata": {},
   "outputs": [],
   "source": []
  },
  {
   "cell_type": "markdown",
   "metadata": {},
   "source": [
    "### Exercice 12\n",
    "Remplacez les valeurs de la colonne 'Salaire' par la racine carrée de ces valeurs."
   ]
  },
  {
   "cell_type": "code",
   "execution_count": null,
   "metadata": {},
   "outputs": [],
   "source": []
  },
  {
   "cell_type": "markdown",
   "metadata": {},
   "source": [
    "### Exercice 13\n",
    "Sélectionnez les lignes où la ville est 'Paris' et l'âge est inférieur à 30."
   ]
  },
  {
   "cell_type": "code",
   "execution_count": null,
   "metadata": {},
   "outputs": [],
   "source": []
  },
  {
   "cell_type": "markdown",
   "metadata": {},
   "source": [
    "### Exercice 14\n",
    "Créez une nouvelle colonne 'Groupe_Age' en catégorisant l'âge en 'Jeune' (<30), 'Adulte' (30-50), et 'Senior' (>50)."
   ]
  },
  {
   "cell_type": "code",
   "execution_count": null,
   "metadata": {},
   "outputs": [],
   "source": []
  },
  {
   "cell_type": "markdown",
   "metadata": {},
   "source": [
    "### Exercice 15\n",
    "Calculez la moyenne du salaire pour chaque groupe d'âge dans le DataFrame."
   ]
  },
  {
   "cell_type": "code",
   "execution_count": null,
   "metadata": {},
   "outputs": [],
   "source": []
  },
  {
   "cell_type": "markdown",
   "metadata": {},
   "source": [
    "### Exercice 16\n",
    "Créez une nouvelle colonne 'Classement' qui attribue le rang à chaque personne en fonction du salaire, en ordre décroissant. Gérez les égalités en attribuant la même valeur de classement à des salaires égaux."
   ]
  },
  {
   "cell_type": "code",
   "execution_count": null,
   "metadata": {},
   "outputs": [],
   "source": []
  },
  {
   "cell_type": "markdown",
   "metadata": {},
   "source": [
    "### Exercice 17\n",
    "Calculez la moyenne mobile sur trois périodes pour la colonne 'Salaire'. La moyenne mobile est la moyenne des valeurs actuelle, précédente et suivante dans la série."
   ]
  },
  {
   "cell_type": "code",
   "execution_count": null,
   "metadata": {},
   "outputs": [],
   "source": []
  },
  {
   "cell_type": "markdown",
   "metadata": {},
   "source": [
    "### Exercice 18\n",
    "Ajoutez une colonne 'Nom_Majuscule' qui contient le nom en majuscules uniquement pour les personnes dont l'âge est supérieur à la moyenne d'âge du DataFrame."
   ]
  },
  {
   "cell_type": "code",
   "execution_count": null,
   "metadata": {},
   "outputs": [],
   "source": []
  },
  {
   "cell_type": "markdown",
   "metadata": {},
   "source": [
    "### Exercice 19\n",
    "Créez une nouvelle colonne 'Difference_Age' qui contient la différence d'âge entre chaque personne et la personne suivante dans le DataFrame."
   ]
  },
  {
   "cell_type": "code",
   "execution_count": null,
   "metadata": {},
   "outputs": [],
   "source": []
  },
  {
   "cell_type": "markdown",
   "metadata": {},
   "source": [
    "### Exercice 20\n",
    "Effectuez une jointure externe entre le DataFrame actuel et un nouveau DataFrame généré aléatoirement, contenant des informations factices sur les personnes. La jointure doit être basée sur la colonne 'Nom'."
   ]
  },
  {
   "cell_type": "code",
   "execution_count": null,
   "metadata": {},
   "outputs": [],
   "source": []
  }
 ],
 "metadata": {
  "language_info": {
   "name": "python"
  }
 },
 "nbformat": 4,
 "nbformat_minor": 2
}
