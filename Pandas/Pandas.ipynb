{
 "cells": [
  {
   "cell_type": "markdown",
   "metadata": {},
   "source": [
    "## Introduction à Pandas"
   ]
  },
  {
   "cell_type": "markdown",
   "metadata": {},
   "source": [
    "### 1. Présentation générale\n",
    "\n",
    "**1. Introduction à Pandas et son rôle dans l'écosystème Python pour l'analyse de données:**\n",
    "   \n",
    "   - **Définition de Pandas :** Pandas est une bibliothèque open-source Python qui offre des structures de données flexibles pour la manipulation et l'analyse de données. Elle est largement utilisée dans le domaine de la science des données et de l'analyse statistique.\n",
    "\n",
    "   - **Rôle de Pandas :** Pandas facilite le travail avec des données tabulaires et séries temporelles, offrant des outils puissants pour la manipulation, le nettoyage et l'analyse des données.\n",
    "\n",
    "   - **Avantages de Pandas :**\n",
    "      - Manipulation efficace de données tabulaires.\n",
    "      - Intégration transparente avec d'autres bibliothèques Python comme NumPy et Matplotlib.\n",
    "      - Facilité d'importation et d'exportation de données à partir de diverses sources.\n"
   ]
  },
  {
   "cell_type": "markdown",
   "metadata": {},
   "source": [
    "**2. Installation de Pandas :**\n",
    "\n",
    "- **Installation :**  Utiliser la commande `pip install pandas` pour installer Pandas.\n",
    "- **Importation dans le code :**"
   ]
  },
  {
   "cell_type": "code",
   "execution_count": 80,
   "metadata": {},
   "outputs": [],
   "source": [
    "import pandas as pd"
   ]
  },
  {
   "cell_type": "markdown",
   "metadata": {},
   "source": [
    "### 2. Structures de données Pandas\n",
    "\n",
    "**1. Les principales structures de données : Series et DataFrame :**\n",
    "\n",
    "   - **Series :** Une Serie est une structure unidimensionnelle similaire à un tableau ou une colonne dans une feuille de calcul. Elle peut contenir divers types de données et possède un index qui permet un accès rapide aux éléments.\n",
    "\n",
    "   - **DataFrame :** Un DataFrame est une structure bidimensionnelle qui ressemble à une table de base de données ou à une feuille de calcul Excel. Il est composé de lignes et de colonnes, chaque colonne pouvant être de type différent. Le DataFrame offre une flexibilité pour manipuler et analyser des données tabulaires.\n"
   ]
  },
  {
   "cell_type": "markdown",
   "metadata": {},
   "source": [
    "**2. Création de Series et DataFrames :**\n",
    "\n",
    "   - **Création d'une Serie :**"
   ]
  },
  {
   "cell_type": "code",
   "execution_count": 2,
   "metadata": {},
   "outputs": [
    {
     "name": "stdout",
     "output_type": "stream",
     "text": [
      "0    10\n",
      "1    20\n",
      "2    30\n",
      "3    40\n",
      "4    50\n",
      "dtype: int64\n"
     ]
    }
   ],
   "source": [
    "# Création d'une Serie à partir d'une liste\n",
    "my_series = pd.Series([10, 20, 30, 40, 50])\n",
    "print(my_series)"
   ]
  },
  {
   "cell_type": "markdown",
   "metadata": {},
   "source": [
    "   - **Création d'un DataFrame :**"
   ]
  },
  {
   "cell_type": "code",
   "execution_count": 90,
   "metadata": {},
   "outputs": [
    {
     "name": "stdout",
     "output_type": "stream",
     "text": [
      "       Nom  Age     Ville\n",
      "0    Alice   25     Paris\n",
      "1      Bob   30   Londres\n",
      "2  Charlie   35  New York\n",
      "3  Antoine   28     Paris\n"
     ]
    }
   ],
   "source": [
    "# Création d'un DataFrame à partir d'un dictionnaire\n",
    "data = {'Nom': ['Alice', 'Bob', 'Charlie', 'Antoine'],\n",
    "        'Age': [25, 30, 35, 28],\n",
    "        'Ville': ['Paris', 'Londres', 'New York', 'Paris']}\n",
    "\n",
    "df = pd.DataFrame(data)\n",
    "print(df)"
   ]
  },
  {
   "cell_type": "code",
   "execution_count": 87,
   "metadata": {},
   "outputs": [
    {
     "data": {
      "text/html": [
       "<div>\n",
       "<style scoped>\n",
       "    .dataframe tbody tr th:only-of-type {\n",
       "        vertical-align: middle;\n",
       "    }\n",
       "\n",
       "    .dataframe tbody tr th {\n",
       "        vertical-align: top;\n",
       "    }\n",
       "\n",
       "    .dataframe thead th {\n",
       "        text-align: right;\n",
       "    }\n",
       "</style>\n",
       "<table border=\"1\" class=\"dataframe\">\n",
       "  <thead>\n",
       "    <tr style=\"text-align: right;\">\n",
       "      <th></th>\n",
       "      <th>Nom</th>\n",
       "      <th>Age</th>\n",
       "      <th>Ville</th>\n",
       "    </tr>\n",
       "  </thead>\n",
       "  <tbody>\n",
       "    <tr>\n",
       "      <th>0</th>\n",
       "      <td>Alice</td>\n",
       "      <td>25</td>\n",
       "      <td>Paris</td>\n",
       "    </tr>\n",
       "    <tr>\n",
       "      <th>1</th>\n",
       "      <td>Bob</td>\n",
       "      <td>30</td>\n",
       "      <td>Londres</td>\n",
       "    </tr>\n",
       "    <tr>\n",
       "      <th>2</th>\n",
       "      <td>Charlie</td>\n",
       "      <td>35</td>\n",
       "      <td>New York</td>\n",
       "    </tr>\n",
       "    <tr>\n",
       "      <th>3</th>\n",
       "      <td>Antoine</td>\n",
       "      <td>28</td>\n",
       "      <td>Paris</td>\n",
       "    </tr>\n",
       "  </tbody>\n",
       "</table>\n",
       "</div>"
      ],
      "text/plain": [
       "       Nom  Age     Ville\n",
       "0    Alice   25     Paris\n",
       "1      Bob   30   Londres\n",
       "2  Charlie   35  New York\n",
       "3  Antoine   28     Paris"
      ]
     },
     "execution_count": 87,
     "metadata": {},
     "output_type": "execute_result"
    }
   ],
   "source": [
    "df.head()"
   ]
  },
  {
   "cell_type": "markdown",
   "metadata": {},
   "source": [
    "   - **Création avec index personnalisé :**"
   ]
  },
  {
   "cell_type": "code",
   "execution_count": 5,
   "metadata": {},
   "outputs": [
    {
     "name": "stdout",
     "output_type": "stream",
     "text": [
      "a    10\n",
      "b    20\n",
      "c    30\n",
      "d    40\n",
      "e    50\n",
      "dtype: int64\n"
     ]
    }
   ],
   "source": [
    "# Création d'une Series avec un index personnalisé\n",
    "my_series = pd.Series([10, 20, 30, 40, 50], index=['a', 'b', 'c', 'd', 'e'])\n",
    "print(my_series)"
   ]
  },
  {
   "cell_type": "markdown",
   "metadata": {},
   "source": [
    "   - **Création à partir de fichiers :**"
   ]
  },
  {
   "cell_type": "code",
   "execution_count": 89,
   "metadata": {},
   "outputs": [
    {
     "data": {
      "text/html": [
       "<div>\n",
       "<style scoped>\n",
       "    .dataframe tbody tr th:only-of-type {\n",
       "        vertical-align: middle;\n",
       "    }\n",
       "\n",
       "    .dataframe tbody tr th {\n",
       "        vertical-align: top;\n",
       "    }\n",
       "\n",
       "    .dataframe thead th {\n",
       "        text-align: right;\n",
       "    }\n",
       "</style>\n",
       "<table border=\"1\" class=\"dataframe\">\n",
       "  <thead>\n",
       "    <tr style=\"text-align: right;\">\n",
       "      <th></th>\n",
       "      <th>Id</th>\n",
       "      <th>MSSubClass</th>\n",
       "      <th>MSZoning</th>\n",
       "      <th>LotFrontage</th>\n",
       "      <th>LotArea</th>\n",
       "      <th>Street</th>\n",
       "      <th>Alley</th>\n",
       "      <th>LotShape</th>\n",
       "      <th>LandContour</th>\n",
       "      <th>Utilities</th>\n",
       "      <th>...</th>\n",
       "      <th>PoolArea</th>\n",
       "      <th>PoolQC</th>\n",
       "      <th>Fence</th>\n",
       "      <th>MiscFeature</th>\n",
       "      <th>MiscVal</th>\n",
       "      <th>MoSold</th>\n",
       "      <th>YrSold</th>\n",
       "      <th>SaleType</th>\n",
       "      <th>SaleCondition</th>\n",
       "      <th>SalePrice</th>\n",
       "    </tr>\n",
       "  </thead>\n",
       "  <tbody>\n",
       "    <tr>\n",
       "      <th>0</th>\n",
       "      <td>1</td>\n",
       "      <td>60</td>\n",
       "      <td>RL</td>\n",
       "      <td>65.0</td>\n",
       "      <td>8450</td>\n",
       "      <td>Pave</td>\n",
       "      <td>NaN</td>\n",
       "      <td>Reg</td>\n",
       "      <td>Lvl</td>\n",
       "      <td>AllPub</td>\n",
       "      <td>...</td>\n",
       "      <td>0</td>\n",
       "      <td>NaN</td>\n",
       "      <td>NaN</td>\n",
       "      <td>NaN</td>\n",
       "      <td>0</td>\n",
       "      <td>2</td>\n",
       "      <td>2008</td>\n",
       "      <td>WD</td>\n",
       "      <td>Normal</td>\n",
       "      <td>208500</td>\n",
       "    </tr>\n",
       "    <tr>\n",
       "      <th>1</th>\n",
       "      <td>2</td>\n",
       "      <td>20</td>\n",
       "      <td>RL</td>\n",
       "      <td>80.0</td>\n",
       "      <td>9600</td>\n",
       "      <td>Pave</td>\n",
       "      <td>NaN</td>\n",
       "      <td>Reg</td>\n",
       "      <td>Lvl</td>\n",
       "      <td>AllPub</td>\n",
       "      <td>...</td>\n",
       "      <td>0</td>\n",
       "      <td>NaN</td>\n",
       "      <td>NaN</td>\n",
       "      <td>NaN</td>\n",
       "      <td>0</td>\n",
       "      <td>5</td>\n",
       "      <td>2007</td>\n",
       "      <td>WD</td>\n",
       "      <td>Normal</td>\n",
       "      <td>181500</td>\n",
       "    </tr>\n",
       "    <tr>\n",
       "      <th>2</th>\n",
       "      <td>3</td>\n",
       "      <td>60</td>\n",
       "      <td>RL</td>\n",
       "      <td>68.0</td>\n",
       "      <td>11250</td>\n",
       "      <td>Pave</td>\n",
       "      <td>NaN</td>\n",
       "      <td>IR1</td>\n",
       "      <td>Lvl</td>\n",
       "      <td>AllPub</td>\n",
       "      <td>...</td>\n",
       "      <td>0</td>\n",
       "      <td>NaN</td>\n",
       "      <td>NaN</td>\n",
       "      <td>NaN</td>\n",
       "      <td>0</td>\n",
       "      <td>9</td>\n",
       "      <td>2008</td>\n",
       "      <td>WD</td>\n",
       "      <td>Normal</td>\n",
       "      <td>223500</td>\n",
       "    </tr>\n",
       "    <tr>\n",
       "      <th>3</th>\n",
       "      <td>4</td>\n",
       "      <td>70</td>\n",
       "      <td>RL</td>\n",
       "      <td>60.0</td>\n",
       "      <td>9550</td>\n",
       "      <td>Pave</td>\n",
       "      <td>NaN</td>\n",
       "      <td>IR1</td>\n",
       "      <td>Lvl</td>\n",
       "      <td>AllPub</td>\n",
       "      <td>...</td>\n",
       "      <td>0</td>\n",
       "      <td>NaN</td>\n",
       "      <td>NaN</td>\n",
       "      <td>NaN</td>\n",
       "      <td>0</td>\n",
       "      <td>2</td>\n",
       "      <td>2006</td>\n",
       "      <td>WD</td>\n",
       "      <td>Abnorml</td>\n",
       "      <td>140000</td>\n",
       "    </tr>\n",
       "    <tr>\n",
       "      <th>4</th>\n",
       "      <td>5</td>\n",
       "      <td>60</td>\n",
       "      <td>RL</td>\n",
       "      <td>84.0</td>\n",
       "      <td>14260</td>\n",
       "      <td>Pave</td>\n",
       "      <td>NaN</td>\n",
       "      <td>IR1</td>\n",
       "      <td>Lvl</td>\n",
       "      <td>AllPub</td>\n",
       "      <td>...</td>\n",
       "      <td>0</td>\n",
       "      <td>NaN</td>\n",
       "      <td>NaN</td>\n",
       "      <td>NaN</td>\n",
       "      <td>0</td>\n",
       "      <td>12</td>\n",
       "      <td>2008</td>\n",
       "      <td>WD</td>\n",
       "      <td>Normal</td>\n",
       "      <td>250000</td>\n",
       "    </tr>\n",
       "  </tbody>\n",
       "</table>\n",
       "<p>5 rows × 81 columns</p>\n",
       "</div>"
      ],
      "text/plain": [
       "   Id  MSSubClass MSZoning  LotFrontage  LotArea Street Alley LotShape  \\\n",
       "0   1          60       RL         65.0     8450   Pave   NaN      Reg   \n",
       "1   2          20       RL         80.0     9600   Pave   NaN      Reg   \n",
       "2   3          60       RL         68.0    11250   Pave   NaN      IR1   \n",
       "3   4          70       RL         60.0     9550   Pave   NaN      IR1   \n",
       "4   5          60       RL         84.0    14260   Pave   NaN      IR1   \n",
       "\n",
       "  LandContour Utilities  ... PoolArea PoolQC Fence MiscFeature MiscVal MoSold  \\\n",
       "0         Lvl    AllPub  ...        0    NaN   NaN         NaN       0      2   \n",
       "1         Lvl    AllPub  ...        0    NaN   NaN         NaN       0      5   \n",
       "2         Lvl    AllPub  ...        0    NaN   NaN         NaN       0      9   \n",
       "3         Lvl    AllPub  ...        0    NaN   NaN         NaN       0      2   \n",
       "4         Lvl    AllPub  ...        0    NaN   NaN         NaN       0     12   \n",
       "\n",
       "  YrSold  SaleType  SaleCondition  SalePrice  \n",
       "0   2008        WD         Normal     208500  \n",
       "1   2007        WD         Normal     181500  \n",
       "2   2008        WD         Normal     223500  \n",
       "3   2006        WD        Abnorml     140000  \n",
       "4   2008        WD         Normal     250000  \n",
       "\n",
       "[5 rows x 81 columns]"
      ]
     },
     "execution_count": 89,
     "metadata": {},
     "output_type": "execute_result"
    }
   ],
   "source": [
    "# Lecture d'un fichier CSV et création d'un DataFrame\n",
    "df_csv = pd.read_csv('house_prices.csv')\n",
    "df_csv.head()"
   ]
  },
  {
   "cell_type": "markdown",
   "metadata": {},
   "source": [
    "### 3. Importation et exportation de données\n",
    "\n",
    "**1. Importation de données à partir de fichiers CSV, Excel, et autres formats :**\n",
    "\n",
    "   - **Importation depuis un fichier CSV :**\n"
   ]
  },
  {
   "cell_type": "code",
   "execution_count": 11,
   "metadata": {},
   "outputs": [
    {
     "name": "stdout",
     "output_type": "stream",
     "text": [
      "        Id  MSSubClass MSZoning  LotFrontage  LotArea Street Alley LotShape  \\\n",
      "0        1          60       RL         65.0     8450   Pave   NaN      Reg   \n",
      "1        2          20       RL         80.0     9600   Pave   NaN      Reg   \n",
      "2        3          60       RL         68.0    11250   Pave   NaN      IR1   \n",
      "3        4          70       RL         60.0     9550   Pave   NaN      IR1   \n",
      "4        5          60       RL         84.0    14260   Pave   NaN      IR1   \n",
      "...    ...         ...      ...          ...      ...    ...   ...      ...   \n",
      "1455  1456          60       RL         62.0     7917   Pave   NaN      Reg   \n",
      "1456  1457          20       RL         85.0    13175   Pave   NaN      Reg   \n",
      "1457  1458          70       RL         66.0     9042   Pave   NaN      Reg   \n",
      "1458  1459          20       RL         68.0     9717   Pave   NaN      Reg   \n",
      "1459  1460          20       RL         75.0     9937   Pave   NaN      Reg   \n",
      "\n",
      "     LandContour Utilities  ... PoolArea PoolQC  Fence MiscFeature MiscVal  \\\n",
      "0            Lvl    AllPub  ...        0    NaN    NaN         NaN       0   \n",
      "1            Lvl    AllPub  ...        0    NaN    NaN         NaN       0   \n",
      "2            Lvl    AllPub  ...        0    NaN    NaN         NaN       0   \n",
      "3            Lvl    AllPub  ...        0    NaN    NaN         NaN       0   \n",
      "4            Lvl    AllPub  ...        0    NaN    NaN         NaN       0   \n",
      "...          ...       ...  ...      ...    ...    ...         ...     ...   \n",
      "1455         Lvl    AllPub  ...        0    NaN    NaN         NaN       0   \n",
      "1456         Lvl    AllPub  ...        0    NaN  MnPrv         NaN       0   \n",
      "1457         Lvl    AllPub  ...        0    NaN  GdPrv        Shed    2500   \n",
      "1458         Lvl    AllPub  ...        0    NaN    NaN         NaN       0   \n",
      "1459         Lvl    AllPub  ...        0    NaN    NaN         NaN       0   \n",
      "\n",
      "     MoSold YrSold  SaleType  SaleCondition  SalePrice  \n",
      "0         2   2008        WD         Normal     208500  \n",
      "1         5   2007        WD         Normal     181500  \n",
      "2         9   2008        WD         Normal     223500  \n",
      "3         2   2006        WD        Abnorml     140000  \n",
      "4        12   2008        WD         Normal     250000  \n",
      "...     ...    ...       ...            ...        ...  \n",
      "1455      8   2007        WD         Normal     175000  \n",
      "1456      2   2010        WD         Normal     210000  \n",
      "1457      5   2010        WD         Normal     266500  \n",
      "1458      4   2010        WD         Normal     142125  \n",
      "1459      6   2008        WD         Normal     147500  \n",
      "\n",
      "[1460 rows x 81 columns]\n"
     ]
    }
   ],
   "source": [
    "# Importation d'un fichier CSV dans un DataFrame\n",
    "df_csv = pd.read_csv('house_prices.csv')\n",
    "print(df_csv)"
   ]
  },
  {
   "cell_type": "markdown",
   "metadata": {},
   "source": [
    "**2. Exportation de données vers différents formats :**\n",
    "\n",
    "   - **Exportation vers un fichier CSV :**\n"
   ]
  },
  {
   "cell_type": "code",
   "execution_count": 13,
   "metadata": {},
   "outputs": [],
   "source": [
    "# Exportation d'un DataFrame vers un fichier CSV\n",
    "df.to_csv('nouveau_fichier.csv', index=False)"
   ]
  },
  {
   "cell_type": "markdown",
   "metadata": {},
   "source": [
    "## Manipulation des données avec Pandas\n",
    "\n",
    "### 4. Sélection et indexation\n",
    "\n",
    "**1. Indexation, sélection et filtrage de données :**\n",
    "\n",
    "   - **Indexation par position :**"
   ]
  },
  {
   "cell_type": "code",
   "execution_count": 27,
   "metadata": {},
   "outputs": [
    {
     "name": "stdout",
     "output_type": "stream",
     "text": [
      "Nom      Alice\n",
      "Age         25\n",
      "Ville    Paris\n",
      "Name: 0, dtype: object\n"
     ]
    },
    {
     "data": {
      "text/plain": [
       "0    25\n",
       "1    30\n",
       "2    35\n",
       "3    28\n",
       "Name: Age, dtype: int64"
      ]
     },
     "execution_count": 27,
     "metadata": {},
     "output_type": "execute_result"
    }
   ],
   "source": [
    "# Indexation par position\n",
    "print(df.iloc[0])  # Première ligne du DataFrame\n",
    "df.iloc[:, 1]  # Deuxième colonne du DataFrame"
   ]
  },
  {
   "cell_type": "markdown",
   "metadata": {},
   "source": [
    "   - **Indexation par label :**"
   ]
  },
  {
   "cell_type": "code",
   "execution_count": 28,
   "metadata": {},
   "outputs": [
    {
     "name": "stdout",
     "output_type": "stream",
     "text": [
      "Alice\n"
     ]
    },
    {
     "data": {
      "text/plain": [
       "0    25\n",
       "1    30\n",
       "2    35\n",
       "3    28\n",
       "Name: Age, dtype: int64"
      ]
     },
     "execution_count": 28,
     "metadata": {},
     "output_type": "execute_result"
    }
   ],
   "source": [
    "# Indexation par label\n",
    "print(df.loc[0, 'Nom'])  # Élément à la première ligne et à la colonne 'Nom'\n",
    "df.loc[:, 'Age']  # Toute la colonne 'Age'\n"
   ]
  },
  {
   "cell_type": "markdown",
   "metadata": {},
   "source": [
    "   - **Sélection conditionnelle :**"
   ]
  },
  {
   "cell_type": "code",
   "execution_count": 29,
   "metadata": {},
   "outputs": [
    {
     "data": {
      "text/html": [
       "<div>\n",
       "<style scoped>\n",
       "    .dataframe tbody tr th:only-of-type {\n",
       "        vertical-align: middle;\n",
       "    }\n",
       "\n",
       "    .dataframe tbody tr th {\n",
       "        vertical-align: top;\n",
       "    }\n",
       "\n",
       "    .dataframe thead th {\n",
       "        text-align: right;\n",
       "    }\n",
       "</style>\n",
       "<table border=\"1\" class=\"dataframe\">\n",
       "  <thead>\n",
       "    <tr style=\"text-align: right;\">\n",
       "      <th></th>\n",
       "      <th>Nom</th>\n",
       "      <th>Age</th>\n",
       "      <th>Ville</th>\n",
       "    </tr>\n",
       "  </thead>\n",
       "  <tbody>\n",
       "    <tr>\n",
       "      <th>1</th>\n",
       "      <td>Bob</td>\n",
       "      <td>30</td>\n",
       "      <td>Londres</td>\n",
       "    </tr>\n",
       "    <tr>\n",
       "      <th>2</th>\n",
       "      <td>Charlie</td>\n",
       "      <td>35</td>\n",
       "      <td>New York</td>\n",
       "    </tr>\n",
       "    <tr>\n",
       "      <th>3</th>\n",
       "      <td>Antoine</td>\n",
       "      <td>28</td>\n",
       "      <td>Paris</td>\n",
       "    </tr>\n",
       "  </tbody>\n",
       "</table>\n",
       "</div>"
      ],
      "text/plain": [
       "       Nom  Age     Ville\n",
       "1      Bob   30   Londres\n",
       "2  Charlie   35  New York\n",
       "3  Antoine   28     Paris"
      ]
     },
     "execution_count": 29,
     "metadata": {},
     "output_type": "execute_result"
    }
   ],
   "source": [
    "# Sélection conditionnelle\n",
    "df[df['Age'] > 25]  # Sélection des lignes où l'âge est supérieur à 25"
   ]
  },
  {
   "cell_type": "markdown",
   "metadata": {},
   "source": [
    "   - **Filtrage avec des opérations logiques :**"
   ]
  },
  {
   "cell_type": "code",
   "execution_count": 30,
   "metadata": {},
   "outputs": [
    {
     "data": {
      "text/html": [
       "<div>\n",
       "<style scoped>\n",
       "    .dataframe tbody tr th:only-of-type {\n",
       "        vertical-align: middle;\n",
       "    }\n",
       "\n",
       "    .dataframe tbody tr th {\n",
       "        vertical-align: top;\n",
       "    }\n",
       "\n",
       "    .dataframe thead th {\n",
       "        text-align: right;\n",
       "    }\n",
       "</style>\n",
       "<table border=\"1\" class=\"dataframe\">\n",
       "  <thead>\n",
       "    <tr style=\"text-align: right;\">\n",
       "      <th></th>\n",
       "      <th>Nom</th>\n",
       "      <th>Age</th>\n",
       "      <th>Ville</th>\n",
       "    </tr>\n",
       "  </thead>\n",
       "  <tbody>\n",
       "    <tr>\n",
       "      <th>3</th>\n",
       "      <td>Antoine</td>\n",
       "      <td>28</td>\n",
       "      <td>Paris</td>\n",
       "    </tr>\n",
       "  </tbody>\n",
       "</table>\n",
       "</div>"
      ],
      "text/plain": [
       "       Nom  Age  Ville\n",
       "3  Antoine   28  Paris"
      ]
     },
     "execution_count": 30,
     "metadata": {},
     "output_type": "execute_result"
    }
   ],
   "source": [
    "# Filtrage avec des opérations logiques\n",
    "df[(df['Age'] > 25) & (df['Ville'] == 'Paris')]"
   ]
  },
  {
   "cell_type": "markdown",
   "metadata": {},
   "source": [
    "   - **Utilisation de méthodes spécifiques :**"
   ]
  },
  {
   "cell_type": "code",
   "execution_count": 31,
   "metadata": {},
   "outputs": [
    {
     "data": {
      "text/html": [
       "<div>\n",
       "<style scoped>\n",
       "    .dataframe tbody tr th:only-of-type {\n",
       "        vertical-align: middle;\n",
       "    }\n",
       "\n",
       "    .dataframe tbody tr th {\n",
       "        vertical-align: top;\n",
       "    }\n",
       "\n",
       "    .dataframe thead th {\n",
       "        text-align: right;\n",
       "    }\n",
       "</style>\n",
       "<table border=\"1\" class=\"dataframe\">\n",
       "  <thead>\n",
       "    <tr style=\"text-align: right;\">\n",
       "      <th></th>\n",
       "      <th>Nom</th>\n",
       "      <th>Age</th>\n",
       "      <th>Ville</th>\n",
       "    </tr>\n",
       "  </thead>\n",
       "  <tbody>\n",
       "    <tr>\n",
       "      <th>1</th>\n",
       "      <td>Bob</td>\n",
       "      <td>30</td>\n",
       "      <td>Londres</td>\n",
       "    </tr>\n",
       "    <tr>\n",
       "      <th>2</th>\n",
       "      <td>Charlie</td>\n",
       "      <td>35</td>\n",
       "      <td>New York</td>\n",
       "    </tr>\n",
       "    <tr>\n",
       "      <th>3</th>\n",
       "      <td>Antoine</td>\n",
       "      <td>28</td>\n",
       "      <td>Paris</td>\n",
       "    </tr>\n",
       "  </tbody>\n",
       "</table>\n",
       "</div>"
      ],
      "text/plain": [
       "       Nom  Age     Ville\n",
       "1      Bob   30   Londres\n",
       "2  Charlie   35  New York\n",
       "3  Antoine   28     Paris"
      ]
     },
     "execution_count": 31,
     "metadata": {},
     "output_type": "execute_result"
    }
   ],
   "source": [
    "# Utilisation de méthodes spécifiques\n",
    "df.query('Age > 25')  # Équivalent à df[df['Age'] > 25]"
   ]
  },
  {
   "cell_type": "markdown",
   "metadata": {},
   "source": [
    "Les méthodes `iloc` et `loc` sont deux méthodes clés de l'objet DataFrame de Pandas, utilisées pour l'indexation et la sélection de données dans un DataFrame. La principale différence réside dans la façon dont elles utilisent l'index pour effectuer la sélection.\n",
    "\n",
    "1. **`iloc` (index location) :**\n",
    "   - Utilise l'indexation basée sur la position.\n",
    "   - Permet d'accéder aux éléments en utilisant des indices entiers pour les lignes et les colonnes.\n",
    "   - Prend des indices entiers ou des plages d'indices entiers comme arguments.\n"
   ]
  },
  {
   "cell_type": "code",
   "execution_count": 32,
   "metadata": {},
   "outputs": [
    {
     "data": {
      "text/plain": [
       "Nom    Alice\n",
       "Age       25\n",
       "Name: 0, dtype: object"
      ]
     },
     "execution_count": 32,
     "metadata": {},
     "output_type": "execute_result"
    }
   ],
   "source": [
    "# Sélection de la première ligne et des deux premières colonnes\n",
    "df.iloc[0, 0:2]"
   ]
  },
  {
   "cell_type": "markdown",
   "metadata": {},
   "source": [
    "2. **`loc` (label location) :**\n",
    "   - Utilise l'indexation basée sur les labels (noms).\n",
    "   - Permet d'accéder aux éléments en utilisant des labels pour les lignes et les colonnes.\n",
    "   - Prend des labels ou des plages de labels comme arguments.\n"
   ]
  },
  {
   "cell_type": "code",
   "execution_count": 33,
   "metadata": {},
   "outputs": [
    {
     "data": {
      "text/plain": [
       "Nom    Alice\n",
       "Age       25\n",
       "Name: 0, dtype: object"
      ]
     },
     "execution_count": 33,
     "metadata": {},
     "output_type": "execute_result"
    }
   ],
   "source": [
    "# Sélection de la première ligne et des colonnes 'Nom' à 'Age'\n",
    "df.loc[0, 'Nom':'Age']"
   ]
  },
  {
   "cell_type": "markdown",
   "metadata": {},
   "source": [
    "**Utilisation commune :**\n",
    "- `iloc` est couramment utilisé pour effectuer des sélections basées sur des positions numériques, comme l'extraction de lignes et de colonnes en utilisant des indices numériques.\n",
    "- `loc` est couramment utilisé pour effectuer des sélections basées sur des labels, notamment lorsqu'on utilise un index personnalisé (non numérique).\n",
    "\n",
    "**Remarque :**\n",
    "Il est important de noter que `iloc` utilise une indexation exclusive pour les plages, tandis que `loc` utilise une indexation inclusive. Cela signifie que lorsqu'on utilise `iloc[0:3]`, cela sélectionne les lignes 0, 1, 2, mais `loc[0:3]` sélectionnera les lignes 0, 1, 2, 3.\n",
    "\n",
    "En résumé, la principale distinction entre `iloc` et `loc` réside dans la manière dont elles interprètent les indices lors de la sélection de données dans un DataFrame.\n"
   ]
  },
  {
   "cell_type": "markdown",
   "metadata": {},
   "source": [
    "**2. Opérations de slicing et d'indexation avancée :**\n",
    "\n",
    "   - **Slicing sur les lignes et colonnes :**"
   ]
  },
  {
   "cell_type": "code",
   "execution_count": 35,
   "metadata": {},
   "outputs": [
    {
     "name": "stdout",
     "output_type": "stream",
     "text": [
      "       Nom  Age     Ville\n",
      "1      Bob   30   Londres\n",
      "2  Charlie   35  New York\n",
      "3  Antoine   28     Paris\n"
     ]
    },
    {
     "data": {
      "text/html": [
       "<div>\n",
       "<style scoped>\n",
       "    .dataframe tbody tr th:only-of-type {\n",
       "        vertical-align: middle;\n",
       "    }\n",
       "\n",
       "    .dataframe tbody tr th {\n",
       "        vertical-align: top;\n",
       "    }\n",
       "\n",
       "    .dataframe thead th {\n",
       "        text-align: right;\n",
       "    }\n",
       "</style>\n",
       "<table border=\"1\" class=\"dataframe\">\n",
       "  <thead>\n",
       "    <tr style=\"text-align: right;\">\n",
       "      <th></th>\n",
       "      <th>Nom</th>\n",
       "      <th>Age</th>\n",
       "      <th>Ville</th>\n",
       "    </tr>\n",
       "  </thead>\n",
       "  <tbody>\n",
       "    <tr>\n",
       "      <th>0</th>\n",
       "      <td>Alice</td>\n",
       "      <td>25</td>\n",
       "      <td>Paris</td>\n",
       "    </tr>\n",
       "    <tr>\n",
       "      <th>1</th>\n",
       "      <td>Bob</td>\n",
       "      <td>30</td>\n",
       "      <td>Londres</td>\n",
       "    </tr>\n",
       "    <tr>\n",
       "      <th>2</th>\n",
       "      <td>Charlie</td>\n",
       "      <td>35</td>\n",
       "      <td>New York</td>\n",
       "    </tr>\n",
       "    <tr>\n",
       "      <th>3</th>\n",
       "      <td>Antoine</td>\n",
       "      <td>28</td>\n",
       "      <td>Paris</td>\n",
       "    </tr>\n",
       "  </tbody>\n",
       "</table>\n",
       "</div>"
      ],
      "text/plain": [
       "       Nom  Age     Ville\n",
       "0    Alice   25     Paris\n",
       "1      Bob   30   Londres\n",
       "2  Charlie   35  New York\n",
       "3  Antoine   28     Paris"
      ]
     },
     "execution_count": 35,
     "metadata": {},
     "output_type": "execute_result"
    }
   ],
   "source": [
    "# Slicing sur les lignes\n",
    "print(df[1:4])  # Sélection des lignes 2 à 4 (excluant la 5ème)\n",
    "\n",
    "# Slicing sur les colonnes\n",
    "df.loc[:, 'Nom':'Ville']  # Sélection des colonnes 'Nom' à 'Ville'"
   ]
  },
  {
   "cell_type": "markdown",
   "metadata": {},
   "source": [
    "- **Indexation avancée avec des listes ou des tableaux :**"
   ]
  },
  {
   "cell_type": "code",
   "execution_count": 38,
   "metadata": {},
   "outputs": [
    {
     "name": "stdout",
     "output_type": "stream",
     "text": [
      "       Nom  Age\n",
      "0    Alice   25\n",
      "2  Charlie   35\n",
      "3  Antoine   28\n"
     ]
    },
    {
     "data": {
      "text/html": [
       "<div>\n",
       "<style scoped>\n",
       "    .dataframe tbody tr th:only-of-type {\n",
       "        vertical-align: middle;\n",
       "    }\n",
       "\n",
       "    .dataframe tbody tr th {\n",
       "        vertical-align: top;\n",
       "    }\n",
       "\n",
       "    .dataframe thead th {\n",
       "        text-align: right;\n",
       "    }\n",
       "</style>\n",
       "<table border=\"1\" class=\"dataframe\">\n",
       "  <thead>\n",
       "    <tr style=\"text-align: right;\">\n",
       "      <th></th>\n",
       "      <th>Nom</th>\n",
       "      <th>Ville</th>\n",
       "    </tr>\n",
       "  </thead>\n",
       "  <tbody>\n",
       "    <tr>\n",
       "      <th>1</th>\n",
       "      <td>Bob</td>\n",
       "      <td>Londres</td>\n",
       "    </tr>\n",
       "    <tr>\n",
       "      <th>2</th>\n",
       "      <td>Charlie</td>\n",
       "      <td>New York</td>\n",
       "    </tr>\n",
       "    <tr>\n",
       "      <th>3</th>\n",
       "      <td>Antoine</td>\n",
       "      <td>Paris</td>\n",
       "    </tr>\n",
       "  </tbody>\n",
       "</table>\n",
       "</div>"
      ],
      "text/plain": [
       "       Nom     Ville\n",
       "1      Bob   Londres\n",
       "2  Charlie  New York\n",
       "3  Antoine     Paris"
      ]
     },
     "execution_count": 38,
     "metadata": {},
     "output_type": "execute_result"
    }
   ],
   "source": [
    "# Indexation avancée avec des listes\n",
    "print(df.loc[[0, 2, 3], ['Nom', 'Age']])  # Sélection des lignes 1, 3, 5 pour les colonnes 'Nom' et 'Age'\n",
    "\n",
    "# Indexation avancée avec des conditions\n",
    "df.loc[df['Age'] > 25, ['Nom', 'Ville']]  # Sélection des lignes où l'âge est supérieur à 25 pour les colonnes 'Nom' et 'Ville'"
   ]
  },
  {
   "cell_type": "markdown",
   "metadata": {},
   "source": [
    "   - **Utilisation de la fonction `isin` pour la sélection :**"
   ]
  },
  {
   "cell_type": "code",
   "execution_count": 39,
   "metadata": {},
   "outputs": [
    {
     "data": {
      "text/html": [
       "<div>\n",
       "<style scoped>\n",
       "    .dataframe tbody tr th:only-of-type {\n",
       "        vertical-align: middle;\n",
       "    }\n",
       "\n",
       "    .dataframe tbody tr th {\n",
       "        vertical-align: top;\n",
       "    }\n",
       "\n",
       "    .dataframe thead th {\n",
       "        text-align: right;\n",
       "    }\n",
       "</style>\n",
       "<table border=\"1\" class=\"dataframe\">\n",
       "  <thead>\n",
       "    <tr style=\"text-align: right;\">\n",
       "      <th></th>\n",
       "      <th>Nom</th>\n",
       "      <th>Age</th>\n",
       "      <th>Ville</th>\n",
       "    </tr>\n",
       "  </thead>\n",
       "  <tbody>\n",
       "    <tr>\n",
       "      <th>0</th>\n",
       "      <td>Alice</td>\n",
       "      <td>25</td>\n",
       "      <td>Paris</td>\n",
       "    </tr>\n",
       "    <tr>\n",
       "      <th>1</th>\n",
       "      <td>Bob</td>\n",
       "      <td>30</td>\n",
       "      <td>Londres</td>\n",
       "    </tr>\n",
       "    <tr>\n",
       "      <th>3</th>\n",
       "      <td>Antoine</td>\n",
       "      <td>28</td>\n",
       "      <td>Paris</td>\n",
       "    </tr>\n",
       "  </tbody>\n",
       "</table>\n",
       "</div>"
      ],
      "text/plain": [
       "       Nom  Age    Ville\n",
       "0    Alice   25    Paris\n",
       "1      Bob   30  Londres\n",
       "3  Antoine   28    Paris"
      ]
     },
     "execution_count": 39,
     "metadata": {},
     "output_type": "execute_result"
    }
   ],
   "source": [
    "# Utilisation de la fonction isin pour la sélection\n",
    "villes_selection = ['Paris', 'Londres']\n",
    "df[df['Ville'].isin(villes_selection)]"
   ]
  },
  {
   "cell_type": "markdown",
   "metadata": {},
   "source": [
    "   - **Opérations de slicing avec iloc :**"
   ]
  },
  {
   "cell_type": "code",
   "execution_count": 40,
   "metadata": {},
   "outputs": [
    {
     "data": {
      "text/html": [
       "<div>\n",
       "<style scoped>\n",
       "    .dataframe tbody tr th:only-of-type {\n",
       "        vertical-align: middle;\n",
       "    }\n",
       "\n",
       "    .dataframe tbody tr th {\n",
       "        vertical-align: top;\n",
       "    }\n",
       "\n",
       "    .dataframe thead th {\n",
       "        text-align: right;\n",
       "    }\n",
       "</style>\n",
       "<table border=\"1\" class=\"dataframe\">\n",
       "  <thead>\n",
       "    <tr style=\"text-align: right;\">\n",
       "      <th></th>\n",
       "      <th>Nom</th>\n",
       "      <th>Age</th>\n",
       "    </tr>\n",
       "  </thead>\n",
       "  <tbody>\n",
       "    <tr>\n",
       "      <th>1</th>\n",
       "      <td>Bob</td>\n",
       "      <td>30</td>\n",
       "    </tr>\n",
       "    <tr>\n",
       "      <th>2</th>\n",
       "      <td>Charlie</td>\n",
       "      <td>35</td>\n",
       "    </tr>\n",
       "    <tr>\n",
       "      <th>3</th>\n",
       "      <td>Antoine</td>\n",
       "      <td>28</td>\n",
       "    </tr>\n",
       "  </tbody>\n",
       "</table>\n",
       "</div>"
      ],
      "text/plain": [
       "       Nom  Age\n",
       "1      Bob   30\n",
       "2  Charlie   35\n",
       "3  Antoine   28"
      ]
     },
     "execution_count": 40,
     "metadata": {},
     "output_type": "execute_result"
    }
   ],
   "source": [
    "# Opérations de slicing avec iloc\n",
    "df.iloc[1:4, 0:2]  # Sélection des lignes 2 à 4 et des colonnes 1 à 2"
   ]
  },
  {
   "cell_type": "markdown",
   "metadata": {},
   "source": [
    "### 5. Manipulation des données \n",
    "\n",
    "**1. Modification, suppression et ajout de colonnes :**\n",
    "\n",
    "   - **Modification de valeurs dans une colonne :**\n"
   ]
  },
  {
   "cell_type": "code",
   "execution_count": 42,
   "metadata": {},
   "outputs": [
    {
     "data": {
      "text/html": [
       "<div>\n",
       "<style scoped>\n",
       "    .dataframe tbody tr th:only-of-type {\n",
       "        vertical-align: middle;\n",
       "    }\n",
       "\n",
       "    .dataframe tbody tr th {\n",
       "        vertical-align: top;\n",
       "    }\n",
       "\n",
       "    .dataframe thead th {\n",
       "        text-align: right;\n",
       "    }\n",
       "</style>\n",
       "<table border=\"1\" class=\"dataframe\">\n",
       "  <thead>\n",
       "    <tr style=\"text-align: right;\">\n",
       "      <th></th>\n",
       "      <th>Nom</th>\n",
       "      <th>Age</th>\n",
       "      <th>Ville</th>\n",
       "    </tr>\n",
       "  </thead>\n",
       "  <tbody>\n",
       "    <tr>\n",
       "      <th>0</th>\n",
       "      <td>Alice</td>\n",
       "      <td>27</td>\n",
       "      <td>Paris</td>\n",
       "    </tr>\n",
       "    <tr>\n",
       "      <th>1</th>\n",
       "      <td>Bob</td>\n",
       "      <td>32</td>\n",
       "      <td>Londres</td>\n",
       "    </tr>\n",
       "    <tr>\n",
       "      <th>2</th>\n",
       "      <td>Charlie</td>\n",
       "      <td>37</td>\n",
       "      <td>New York</td>\n",
       "    </tr>\n",
       "    <tr>\n",
       "      <th>3</th>\n",
       "      <td>Antoine</td>\n",
       "      <td>30</td>\n",
       "      <td>Paris</td>\n",
       "    </tr>\n",
       "  </tbody>\n",
       "</table>\n",
       "</div>"
      ],
      "text/plain": [
       "       Nom  Age     Ville\n",
       "0    Alice   27     Paris\n",
       "1      Bob   32   Londres\n",
       "2  Charlie   37  New York\n",
       "3  Antoine   30     Paris"
      ]
     },
     "execution_count": 42,
     "metadata": {},
     "output_type": "execute_result"
    }
   ],
   "source": [
    "# Modification de valeurs dans une colonne\n",
    "df['Age'] = df['Age'] + 1  # Incrémentation de l'âge de 1 pour chaque personne\n",
    "df.head()"
   ]
  },
  {
   "cell_type": "markdown",
   "metadata": {},
   "source": [
    "   - **Modification basée sur une condition :**\n"
   ]
  },
  {
   "cell_type": "code",
   "execution_count": 43,
   "metadata": {},
   "outputs": [
    {
     "data": {
      "text/html": [
       "<div>\n",
       "<style scoped>\n",
       "    .dataframe tbody tr th:only-of-type {\n",
       "        vertical-align: middle;\n",
       "    }\n",
       "\n",
       "    .dataframe tbody tr th {\n",
       "        vertical-align: top;\n",
       "    }\n",
       "\n",
       "    .dataframe thead th {\n",
       "        text-align: right;\n",
       "    }\n",
       "</style>\n",
       "<table border=\"1\" class=\"dataframe\">\n",
       "  <thead>\n",
       "    <tr style=\"text-align: right;\">\n",
       "      <th></th>\n",
       "      <th>Nom</th>\n",
       "      <th>Age</th>\n",
       "      <th>Ville</th>\n",
       "    </tr>\n",
       "  </thead>\n",
       "  <tbody>\n",
       "    <tr>\n",
       "      <th>0</th>\n",
       "      <td>Alice</td>\n",
       "      <td>29</td>\n",
       "      <td>Paris</td>\n",
       "    </tr>\n",
       "    <tr>\n",
       "      <th>1</th>\n",
       "      <td>Bob</td>\n",
       "      <td>32</td>\n",
       "      <td>Londres</td>\n",
       "    </tr>\n",
       "    <tr>\n",
       "      <th>2</th>\n",
       "      <td>Charlie</td>\n",
       "      <td>37</td>\n",
       "      <td>New York</td>\n",
       "    </tr>\n",
       "    <tr>\n",
       "      <th>3</th>\n",
       "      <td>Antoine</td>\n",
       "      <td>32</td>\n",
       "      <td>Paris</td>\n",
       "    </tr>\n",
       "  </tbody>\n",
       "</table>\n",
       "</div>"
      ],
      "text/plain": [
       "       Nom  Age     Ville\n",
       "0    Alice   29     Paris\n",
       "1      Bob   32   Londres\n",
       "2  Charlie   37  New York\n",
       "3  Antoine   32     Paris"
      ]
     },
     "execution_count": 43,
     "metadata": {},
     "output_type": "execute_result"
    }
   ],
   "source": [
    "# Modification basée sur une condition\n",
    "df.loc[df['Ville'] == 'Paris', 'Age'] += 2  # Incrémentation de l'âge de 2 pour les personnes vivant à Paris\n",
    "df.head()"
   ]
  },
  {
   "cell_type": "markdown",
   "metadata": {},
   "source": [
    "   - **Suppression de colonnes :**"
   ]
  },
  {
   "cell_type": "code",
   "execution_count": 45,
   "metadata": {},
   "outputs": [
    {
     "data": {
      "text/html": [
       "<div>\n",
       "<style scoped>\n",
       "    .dataframe tbody tr th:only-of-type {\n",
       "        vertical-align: middle;\n",
       "    }\n",
       "\n",
       "    .dataframe tbody tr th {\n",
       "        vertical-align: top;\n",
       "    }\n",
       "\n",
       "    .dataframe thead th {\n",
       "        text-align: right;\n",
       "    }\n",
       "</style>\n",
       "<table border=\"1\" class=\"dataframe\">\n",
       "  <thead>\n",
       "    <tr style=\"text-align: right;\">\n",
       "      <th></th>\n",
       "      <th>Age</th>\n",
       "      <th>Ville</th>\n",
       "    </tr>\n",
       "  </thead>\n",
       "  <tbody>\n",
       "    <tr>\n",
       "      <th>0</th>\n",
       "      <td>29</td>\n",
       "      <td>Paris</td>\n",
       "    </tr>\n",
       "    <tr>\n",
       "      <th>1</th>\n",
       "      <td>32</td>\n",
       "      <td>Londres</td>\n",
       "    </tr>\n",
       "    <tr>\n",
       "      <th>2</th>\n",
       "      <td>37</td>\n",
       "      <td>New York</td>\n",
       "    </tr>\n",
       "    <tr>\n",
       "      <th>3</th>\n",
       "      <td>32</td>\n",
       "      <td>Paris</td>\n",
       "    </tr>\n",
       "  </tbody>\n",
       "</table>\n",
       "</div>"
      ],
      "text/plain": [
       "   Age     Ville\n",
       "0   29     Paris\n",
       "1   32   Londres\n",
       "2   37  New York\n",
       "3   32     Paris"
      ]
     },
     "execution_count": 45,
     "metadata": {},
     "output_type": "execute_result"
    }
   ],
   "source": [
    "# Suppression d'une colonne\n",
    "df.drop('Nom', axis=1, inplace=True)  # Suppression de la colonne 'Nom'\n",
    "df.head()"
   ]
  },
  {
   "cell_type": "markdown",
   "metadata": {},
   "source": [
    "   - **Ajout d'une nouvelle colonne :**"
   ]
  },
  {
   "cell_type": "code",
   "execution_count": 55,
   "metadata": {},
   "outputs": [
    {
     "data": {
      "text/html": [
       "<div>\n",
       "<style scoped>\n",
       "    .dataframe tbody tr th:only-of-type {\n",
       "        vertical-align: middle;\n",
       "    }\n",
       "\n",
       "    .dataframe tbody tr th {\n",
       "        vertical-align: top;\n",
       "    }\n",
       "\n",
       "    .dataframe thead th {\n",
       "        text-align: right;\n",
       "    }\n",
       "</style>\n",
       "<table border=\"1\" class=\"dataframe\">\n",
       "  <thead>\n",
       "    <tr style=\"text-align: right;\">\n",
       "      <th></th>\n",
       "      <th>Nom</th>\n",
       "      <th>Age</th>\n",
       "      <th>Ville</th>\n",
       "      <th>Age_Doubled</th>\n",
       "      <th>Nom_Length</th>\n",
       "      <th>Nouvelle_Colonne</th>\n",
       "    </tr>\n",
       "  </thead>\n",
       "  <tbody>\n",
       "    <tr>\n",
       "      <th>0</th>\n",
       "      <td>Alice</td>\n",
       "      <td>25</td>\n",
       "      <td>Paris</td>\n",
       "      <td>50</td>\n",
       "      <td>5</td>\n",
       "      <td>10</td>\n",
       "    </tr>\n",
       "    <tr>\n",
       "      <th>1</th>\n",
       "      <td>Bob</td>\n",
       "      <td>30</td>\n",
       "      <td>Londres</td>\n",
       "      <td>60</td>\n",
       "      <td>3</td>\n",
       "      <td>20</td>\n",
       "    </tr>\n",
       "    <tr>\n",
       "      <th>2</th>\n",
       "      <td>Charlie</td>\n",
       "      <td>35</td>\n",
       "      <td>New York</td>\n",
       "      <td>70</td>\n",
       "      <td>7</td>\n",
       "      <td>30</td>\n",
       "    </tr>\n",
       "    <tr>\n",
       "      <th>3</th>\n",
       "      <td>Antoine</td>\n",
       "      <td>28</td>\n",
       "      <td>Paris</td>\n",
       "      <td>56</td>\n",
       "      <td>7</td>\n",
       "      <td>40</td>\n",
       "    </tr>\n",
       "  </tbody>\n",
       "</table>\n",
       "</div>"
      ],
      "text/plain": [
       "       Nom  Age     Ville  Age_Doubled  Nom_Length  Nouvelle_Colonne\n",
       "0    Alice   25     Paris           50           5                10\n",
       "1      Bob   30   Londres           60           3                20\n",
       "2  Charlie   35  New York           70           7                30\n",
       "3  Antoine   28     Paris           56           7                40"
      ]
     },
     "execution_count": 55,
     "metadata": {},
     "output_type": "execute_result"
    }
   ],
   "source": [
    "# Ajout d'une nouvelle colonne\n",
    "df['Nouvelle_Colonne'] = [10, 20, 30, 40]  # Ajout d'une colonne avec des valeurs spécifiques    \n",
    "df.head()"
   ]
  },
  {
   "cell_type": "markdown",
   "metadata": {},
   "source": [
    "   - **Création de colonnes basées sur des opérations :**\n"
   ]
  },
  {
   "cell_type": "code",
   "execution_count": 51,
   "metadata": {},
   "outputs": [
    {
     "data": {
      "text/html": [
       "<div>\n",
       "<style scoped>\n",
       "    .dataframe tbody tr th:only-of-type {\n",
       "        vertical-align: middle;\n",
       "    }\n",
       "\n",
       "    .dataframe tbody tr th {\n",
       "        vertical-align: top;\n",
       "    }\n",
       "\n",
       "    .dataframe thead th {\n",
       "        text-align: right;\n",
       "    }\n",
       "</style>\n",
       "<table border=\"1\" class=\"dataframe\">\n",
       "  <thead>\n",
       "    <tr style=\"text-align: right;\">\n",
       "      <th></th>\n",
       "      <th>Age</th>\n",
       "      <th>Ville</th>\n",
       "      <th>Nouvelle_Colonne</th>\n",
       "      <th>Age_Carre</th>\n",
       "    </tr>\n",
       "  </thead>\n",
       "  <tbody>\n",
       "    <tr>\n",
       "      <th>0</th>\n",
       "      <td>29</td>\n",
       "      <td>Paris</td>\n",
       "      <td>10</td>\n",
       "      <td>841</td>\n",
       "    </tr>\n",
       "    <tr>\n",
       "      <th>1</th>\n",
       "      <td>32</td>\n",
       "      <td>Londres</td>\n",
       "      <td>20</td>\n",
       "      <td>1024</td>\n",
       "    </tr>\n",
       "    <tr>\n",
       "      <th>2</th>\n",
       "      <td>37</td>\n",
       "      <td>New York</td>\n",
       "      <td>30</td>\n",
       "      <td>1369</td>\n",
       "    </tr>\n",
       "    <tr>\n",
       "      <th>3</th>\n",
       "      <td>32</td>\n",
       "      <td>Paris</td>\n",
       "      <td>40</td>\n",
       "      <td>1024</td>\n",
       "    </tr>\n",
       "  </tbody>\n",
       "</table>\n",
       "</div>"
      ],
      "text/plain": [
       "   Age     Ville  Nouvelle_Colonne  Age_Carre\n",
       "0   29     Paris                10        841\n",
       "1   32   Londres                20       1024\n",
       "2   37  New York                30       1369\n",
       "3   32     Paris                40       1024"
      ]
     },
     "execution_count": 51,
     "metadata": {},
     "output_type": "execute_result"
    }
   ],
   "source": [
    "# Création de colonnes basées sur des opérations\n",
    "df['Age_Carre'] = df['Age'] ** 2  # Création d'une colonne avec l'âge au carré\n",
    "df.head()"
   ]
  },
  {
   "cell_type": "markdown",
   "metadata": {},
   "source": [
    "**2. Application de fonctions sur les données :**\n",
    "\n",
    "   - **fonction `apply` :**\n",
    "\t\tLa fonction `apply` en Pandas est utilisée pour appliquer une fonction donnée le long d'un axe spécifié d'un DataFrame. Elle peut être utilisée pour appliquer des fonctions personnalisées, des fonctions lambda ou des fonctions prédéfinies à chaque élément, chaque ligne ou chaque colonne d'un DataFrame.\n",
    "\t\t\n",
    "\t\tLa signature de base de la fonction `apply` est la suivante :\n",
    "\t\t\n",
    "\t\t```python\n",
    "\t\tDataFrame.apply(func, axis=0, broadcast=None, raw=False, reduce=None, result_type=None, args=(), **kwds)\n",
    "\t\t```\n",
    "\t\t\n",
    "\t\t- **`func` :** La fonction à appliquer.\n",
    "\t\t- **`axis` :** L'axe le long duquel appliquer la fonction. `axis=0` applique la fonction sur chaque colonne, et `axis=1` applique la fonction sur chaque ligne.\n",
    "\t\t- **`raw` :** Si `True`, la fonction est appliquée aux tableaux NumPy sous-jacents plutôt qu'aux objets Pandas, ce qui peut améliorer les performances dans certains cas.\n",
    "\t\tVoici quelques exemples pour illustrer son utilisation :\n"
   ]
  },
  {
   "cell_type": "code",
   "execution_count": 65,
   "metadata": {},
   "outputs": [],
   "source": [
    "# Exemple d'application d'une fonction lambda pour doubler les valeurs d'une colonne\n",
    "df['Age_Doubled'] = df['Age'].apply(lambda x: x * 2)\n",
    "\n",
    "# Exemple d'application d'une fonction prédéfinie pour calculer la longueur des noms dans une colonne\n",
    "df['Nom_Length'] = df['Nom'].apply(len)\n",
    "\n",
    "# Exemple d'application d'une fonction sur chaque ligne pour calculer la somme de deux colonnes\n",
    "df['Somme_Colonnes'] = df.apply(lambda row: row['Age'] + row['Nouvelle_Colonne'], axis=1)\n"
   ]
  },
  {
   "cell_type": "code",
   "execution_count": 66,
   "metadata": {},
   "outputs": [
    {
     "data": {
      "text/html": [
       "<div>\n",
       "<style scoped>\n",
       "    .dataframe tbody tr th:only-of-type {\n",
       "        vertical-align: middle;\n",
       "    }\n",
       "\n",
       "    .dataframe tbody tr th {\n",
       "        vertical-align: top;\n",
       "    }\n",
       "\n",
       "    .dataframe thead th {\n",
       "        text-align: right;\n",
       "    }\n",
       "</style>\n",
       "<table border=\"1\" class=\"dataframe\">\n",
       "  <thead>\n",
       "    <tr style=\"text-align: right;\">\n",
       "      <th></th>\n",
       "      <th>Nom</th>\n",
       "      <th>Age</th>\n",
       "      <th>Ville</th>\n",
       "      <th>Age_Doubled</th>\n",
       "      <th>Nom_Length</th>\n",
       "      <th>Nouvelle_Colonne</th>\n",
       "      <th>Somme_Colonnes</th>\n",
       "    </tr>\n",
       "  </thead>\n",
       "  <tbody>\n",
       "    <tr>\n",
       "      <th>0</th>\n",
       "      <td>Alice</td>\n",
       "      <td>25</td>\n",
       "      <td>Paris</td>\n",
       "      <td>50</td>\n",
       "      <td>5</td>\n",
       "      <td>10</td>\n",
       "      <td>35</td>\n",
       "    </tr>\n",
       "    <tr>\n",
       "      <th>1</th>\n",
       "      <td>Bob</td>\n",
       "      <td>30</td>\n",
       "      <td>Londres</td>\n",
       "      <td>60</td>\n",
       "      <td>3</td>\n",
       "      <td>20</td>\n",
       "      <td>50</td>\n",
       "    </tr>\n",
       "    <tr>\n",
       "      <th>2</th>\n",
       "      <td>Charlie</td>\n",
       "      <td>35</td>\n",
       "      <td>New York</td>\n",
       "      <td>70</td>\n",
       "      <td>7</td>\n",
       "      <td>30</td>\n",
       "      <td>65</td>\n",
       "    </tr>\n",
       "    <tr>\n",
       "      <th>3</th>\n",
       "      <td>Antoine</td>\n",
       "      <td>28</td>\n",
       "      <td>Paris</td>\n",
       "      <td>56</td>\n",
       "      <td>7</td>\n",
       "      <td>40</td>\n",
       "      <td>68</td>\n",
       "    </tr>\n",
       "  </tbody>\n",
       "</table>\n",
       "</div>"
      ],
      "text/plain": [
       "       Nom  Age     Ville  Age_Doubled  Nom_Length  Nouvelle_Colonne  \\\n",
       "0    Alice   25     Paris           50           5                10   \n",
       "1      Bob   30   Londres           60           3                20   \n",
       "2  Charlie   35  New York           70           7                30   \n",
       "3  Antoine   28     Paris           56           7                40   \n",
       "\n",
       "   Somme_Colonnes  \n",
       "0              35  \n",
       "1              50  \n",
       "2              65  \n",
       "3              68  "
      ]
     },
     "execution_count": 66,
     "metadata": {},
     "output_type": "execute_result"
    }
   ],
   "source": [
    "df.head()"
   ]
  },
  {
   "cell_type": "markdown",
   "metadata": {},
   "source": [
    "\t\tAinsi, la fonction `apply` offre une flexibilité pour appliquer des transformations personnalisées sur les données d'un DataFrame, en permettant une manipulation souple et puissante des données.\n",
    "\t\n",
    "   - **fonction `map` :**\n",
    "\t   La fonction `map` en Pandas est utilisée pour substituer chaque valeur dans une série (ou une colonne d'un DataFrame) par une autre valeur, basée sur un mappage spécifié. Elle est principalement utilisée pour remplacer des valeurs dans une colonne en se basant sur une correspondance avec un dictionnaire ou une autre série.\n",
    "\t\t\n",
    "\t\tLa signature de base de la fonction `map` est la suivante :\n",
    "\t\t\n",
    "\t\t```python\n",
    "\t\tSeries.map(arg, na_action=None)\n",
    "\t\t```\n",
    "\t\t\n",
    "\t\t- **`arg` :** Une fonction, un dictionnaire ou une série utilisée pour mapper les valeurs.\n",
    "\t\t- **`na_action` :** Spécifie l'action à effectuer en cas de valeurs manquantes (`None`). Les options sont `'ignore'` pour ignorer les valeurs manquantes et les laisser inchangées, et `'raise'` pour lever une exception en cas de valeurs manquantes.\n",
    "\t\t\n",
    "\t\tVoici quelques exemples pour illustrer son utilisation :\n",
    "\t\t\n"
   ]
  },
  {
   "cell_type": "code",
   "execution_count": 67,
   "metadata": {},
   "outputs": [],
   "source": [
    "# Exemple d'utilisation avec un dictionnaire\n",
    "villes_mapping = {'Paris': 'France', 'Londres': 'Royaume-Uni', 'New York': 'États-Unis'}\n",
    "df['Pays'] = df['Ville'].map(villes_mapping)\n",
    "\n",
    "# Exemple d'utilisation avec une fonction lambda pour transformer les valeurs d'une colonne\n",
    "df['Pays_Majuscule'] = df['Pays'].map(lambda x: x.upper())"
   ]
  },
  {
   "cell_type": "markdown",
   "metadata": {},
   "source": [
    "\n",
    "\t\tDans le premier exemple, la colonne `'Ville'` est transformée en une nouvelle colonne `'Pays'` en utilisant le dictionnaire `villes_mapping`. Dans le deuxième exemple, une nouvelle colonne `'Pays_Majuscule'` est créée en appliquant une fonction lambda pour mettre en majuscules les valeurs de la colonne `'Pays'`.\n",
    "\t\t\n",
    "\t\tLa fonction `map` est utile lorsque vous avez besoin de remplacer les valeurs dans une colonne en fonction d'une correspondance spécifiée, et elle offre une manière concise de le faire en utilisant des dictionnaires, des fonctions ou des séries."
   ]
  },
  {
   "cell_type": "markdown",
   "metadata": {},
   "source": [
    "## Analyse et traitement des données"
   ]
  },
  {
   "cell_type": "markdown",
   "metadata": {},
   "source": [
    "\n",
    "### 6. Agrégation et regroupement\n",
    "\n",
    "**1. Utilisation de la méthode `groupby` pour l'agrégation :**\n",
    "\n",
    "La méthode `groupby` en Pandas est utilisée pour regrouper les données en fonction de certaines caractéristiques, puis appliquer des opérations d'agrégation sur chaque groupe résultant. Cela permet de réaliser des analyses statistiques et des calculs sur des sous-ensembles spécifiques de données.\n",
    "\n",
    "**Exemple :**\n",
    "Supposons que nous ayons un DataFrame représentant des données de ventes avec des informations sur les produits et les montants de ventes. Nous pouvons utiliser `groupby` pour regrouper les données par produit et calculer la somme totale des ventes pour chaque produit.\n",
    "\n"
   ]
  },
  {
   "cell_type": "code",
   "execution_count": 68,
   "metadata": {},
   "outputs": [
    {
     "name": "stdout",
     "output_type": "stream",
     "text": [
      "  Produit  Ventes\n",
      "0       A     480\n",
      "1       B     400\n"
     ]
    }
   ],
   "source": [
    "\n",
    "# Création d'un DataFrame de ventes\n",
    "data = {'Produit': ['A', 'B', 'A', 'B', 'A', 'B'],\n",
    "        'Ventes': [100, 150, 200, 120, 180, 130]}\n",
    "\n",
    "df_ventes = pd.DataFrame(data)\n",
    "\n",
    "# Utilisation de groupby pour agréger les ventes par produit\n",
    "ventes_par_produit = df_ventes.groupby('Produit')['Ventes'].sum().reset_index()\n",
    "print(ventes_par_produit)\n"
   ]
  },
  {
   "cell_type": "markdown",
   "metadata": {},
   "source": [
    "Dans cet exemple, nous avons regroupé les données par la colonne 'Produit' en utilisant `groupby`, puis nous avons appliqué la fonction d'agrégation `sum` pour obtenir la somme totale des ventes par produit.\n",
    "\n",
    "**2. Application de fonctions d'agrégation :**\n",
    "\n",
    "Après avoir utilisé `groupby` pour regrouper les données, nous pouvons appliquer différentes fonctions d'agrégation pour obtenir des statistiques sur chaque groupe. Les fonctions couramment utilisées incluent `sum`, `mean`, `count`, `min`, `max`, etc.\n",
    "\n",
    "**Exemple :**\n",
    "En reprenant l'exemple précédent, nous pourrions vouloir connaître la vente moyenne par produit en utilisant la fonction `mean`.\n"
   ]
  },
  {
   "cell_type": "code",
   "execution_count": 70,
   "metadata": {},
   "outputs": [
    {
     "name": "stdout",
     "output_type": "stream",
     "text": [
      "  Produit      Ventes\n",
      "0       A  160.000000\n",
      "1       B  133.333333\n"
     ]
    },
    {
     "data": {
      "text/html": [
       "<div>\n",
       "<style scoped>\n",
       "    .dataframe tbody tr th:only-of-type {\n",
       "        vertical-align: middle;\n",
       "    }\n",
       "\n",
       "    .dataframe tbody tr th {\n",
       "        vertical-align: top;\n",
       "    }\n",
       "\n",
       "    .dataframe thead th {\n",
       "        text-align: right;\n",
       "    }\n",
       "</style>\n",
       "<table border=\"1\" class=\"dataframe\">\n",
       "  <thead>\n",
       "    <tr style=\"text-align: right;\">\n",
       "      <th></th>\n",
       "      <th>Produit</th>\n",
       "      <th>Ventes</th>\n",
       "    </tr>\n",
       "  </thead>\n",
       "  <tbody>\n",
       "    <tr>\n",
       "      <th>0</th>\n",
       "      <td>A</td>\n",
       "      <td>160.000000</td>\n",
       "    </tr>\n",
       "    <tr>\n",
       "      <th>1</th>\n",
       "      <td>B</td>\n",
       "      <td>133.333333</td>\n",
       "    </tr>\n",
       "  </tbody>\n",
       "</table>\n",
       "</div>"
      ],
      "text/plain": [
       "  Produit      Ventes\n",
       "0       A  160.000000\n",
       "1       B  133.333333"
      ]
     },
     "execution_count": 70,
     "metadata": {},
     "output_type": "execute_result"
    }
   ],
   "source": [
    "# Utilisation de groupby pour agréger les ventes par produit avec la moyenne\n",
    "ventes_moyennes_par_produit = df_ventes.groupby('Produit')['Ventes'].mean().reset_index()\n",
    "print(ventes_moyennes_par_produit)\n",
    "ventes_moyennes_par_produit.head()"
   ]
  },
  {
   "cell_type": "markdown",
   "metadata": {},
   "source": [
    "\n",
    "Dans cet exemple, la fonction `mean` a été appliquée pour obtenir la vente moyenne par produit.\n",
    "\n",
    "### Fusion et jointure de DataFrames\n",
    "\n",
    "**1. Combinaison de plusieurs DataFrames :**\n",
    "\n",
    "La combinaison de plusieurs DataFrames est souvent nécessaire lorsqu'on travaille avec des ensembles de données provenant de différentes sources ou avec des relations complexes entre les données. Les opérations de fusion et de jointure permettent de combiner ces ensembles de données en fonction de clés communes.\n",
    "\n",
    "**Exemple  :**\n",
    "Imaginons deux DataFrames, l'un contenant des informations sur les étudiants et l'autre sur les cours auxquels ils sont inscrits. Nous pourrions fusionner ces DataFrames pour obtenir une vue complète des étudiants et de leurs cours.\n"
   ]
  },
  {
   "cell_type": "code",
   "execution_count": 71,
   "metadata": {},
   "outputs": [
    {
     "name": "stdout",
     "output_type": "stream",
     "text": [
      "   ID_Etudiant      Nom     Cours\n",
      "0            1    Alice      Math\n",
      "1            2      Bob  Physique\n",
      "2            3  Charlie    Chimie\n"
     ]
    }
   ],
   "source": [
    "# Création du DataFrame des étudiants\n",
    "df_etudiants = pd.DataFrame({'ID_Etudiant': [1, 2, 3],\n",
    "                             'Nom': ['Alice', 'Bob', 'Charlie']})\n",
    "\n",
    "# Création du DataFrame des cours\n",
    "df_cours = pd.DataFrame({'ID_Etudiant': [1, 2, 3],\n",
    "                          'Cours': ['Math', 'Physique', 'Chimie']})\n",
    "\n",
    "# Fusion des DataFrames sur la clé 'ID_Etudiant'\n",
    "df_complet = pd.merge(df_etudiants, df_cours, on='ID_Etudiant')\n",
    "print(df_complet)\n"
   ]
  },
  {
   "cell_type": "markdown",
   "metadata": {},
   "source": [
    "Dans cet exemple, les deux DataFrames ont été fusionnés sur la clé `'ID_Etudiant'`, créant ainsi un nouveau DataFrame qui combine les informations des étudiants et des cours.\n",
    "\n",
    "**2. Utilisation de méthodes comme `merge` et `concat` :**\n",
    "\n",
    "- La méthode `merge` est utilisée pour effectuer des opérations de fusion (jointure) entre deux DataFrames.\n",
    "- La fonction `concat` est utilisée pour concaténer (empiler) plusieurs DataFrames le long d'un axe donné.\n",
    "\n",
    "**Exemple :**\n",
    "Nous pourrions concaténer plusieurs DataFrames contenant les résultats de différents examens pour obtenir une vue complète des performances des étudiants.\n"
   ]
  },
  {
   "cell_type": "code",
   "execution_count": 72,
   "metadata": {},
   "outputs": [
    {
     "name": "stdout",
     "output_type": "stream",
     "text": [
      "   ID_Etudiant  Résultat_Exam1  ID_Etudiant  Résultat_Exam2\n",
      "0            1              85            1              92\n",
      "1            2              90            2              88\n",
      "2            3              78            3              95\n"
     ]
    }
   ],
   "source": [
    "# Création de deux DataFrames avec des résultats d'examens différents\n",
    "df_exam1 = pd.DataFrame({'ID_Etudiant': [1, 2, 3], 'Résultat_Exam1': [85, 90, 78]})\n",
    "df_exam2 = pd.DataFrame({'ID_Etudiant': [1, 2, 3], 'Résultat_Exam2': [92, 88, 95]})\n",
    "\n",
    "# Concaténation des DataFrames le long des colonnes\n",
    "df_resultats_finaux = pd.concat([df_exam1, df_exam2], axis=1)\n",
    "print(df_resultats_finaux)\n"
   ]
  },
  {
   "cell_type": "markdown",
   "metadata": {},
   "source": [
    "\n",
    "Dans cet exemple, les deux DataFrames `df_exam1` et `df_exam2` ont été concaténés le long des colonnes, créant ainsi un DataFrame combiné avec les résultats des deux examens."
   ]
  }
 ],
 "metadata": {
  "kernelspec": {
   "display_name": "Python 3",
   "language": "python",
   "name": "python3"
  },
  "language_info": {
   "codemirror_mode": {
    "name": "ipython",
    "version": 3
   },
   "file_extension": ".py",
   "mimetype": "text/x-python",
   "name": "python",
   "nbconvert_exporter": "python",
   "pygments_lexer": "ipython3",
   "version": "3.12.0"
  }
 },
 "nbformat": 4,
 "nbformat_minor": 2
}
