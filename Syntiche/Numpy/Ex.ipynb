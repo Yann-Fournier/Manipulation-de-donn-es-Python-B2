{
 "cells": [
  {
   "cell_type": "code",
   "execution_count": 3,
   "metadata": {},
   "outputs": [],
   "source": [
    "import numpy as np"
   ]
  },
  {
   "cell_type": "code",
   "execution_count": 4,
   "metadata": {},
   "outputs": [
    {
     "name": "stdout",
     "output_type": "stream",
     "text": [
      "[0 1 2 3 4 5 6 7 8 9]\n",
      "[[ True  True  True]\n",
      " [ True  True  True]\n",
      " [ True  True  True]]\n"
     ]
    },
    {
     "data": {
      "text/plain": [
       "array([0.1235823 , 0.9363792 , 0.76362838, 0.11520062, 0.60076131,\n",
       "       0.30821421, 0.63220397, 0.32862372, 0.45931064, 0.8440014 ])"
      ]
     },
     "execution_count": 4,
     "metadata": {},
     "output_type": "execute_result"
    }
   ],
   "source": [
    "# Exercice 1\n",
    "\n",
    "# Q1\n",
    "arr1 = np.arange(10)\n",
    "print(arr1)\n",
    "\n",
    "# Q2\n",
    "arr2 = np.full((3, 3), True, dtype=bool)\n",
    "print(arr2)\n",
    "\n",
    "# Q3\n",
    "arr3 = np.random.rand(10)\n",
    "arr3"
   ]
  },
  {
   "cell_type": "code",
   "execution_count": 8,
   "metadata": {},
   "outputs": [
    {
     "name": "stdout",
     "output_type": "stream",
     "text": [
      "[-1  1 -1  3 -1  5 -1  7 -1  9]\n",
      "True\n",
      "[[0.73358838 0.37534416 0.12698785 0.71958673]\n",
      " [0.43234844 0.34110501 0.53480566 0.70345477]\n",
      " [0.67754605 0.07614108 0.95817382 0.77198169]\n",
      " [0.62718529 0.11560649 0.43453157 0.40077733]]\n",
      "\n",
      "[[0.73358838 0.37534416 0.12698785]\n",
      " [0.43234844 0.34110501 0.53480566]\n",
      " [0.67754605 0.07614108 0.95817382]\n",
      " [0.62718529 0.11560649 0.43453157]]\n",
      "\n",
      "[1.23592039 1.30825911 1.71186096 1.17732334]\n",
      "\n",
      "[[0.73358838 0.37534416 0.12698785 1.23592039]\n",
      " [0.43234844 0.34110501 0.53480566 1.30825911]\n",
      " [0.67754605 0.07614108 0.95817382 1.71186096]\n",
      " [0.62718529 0.11560649 0.43453157 1.17732334]]\n"
     ]
    }
   ],
   "source": [
    "# Exercice 2\n",
    "\n",
    "# Q1\n",
    "arr1[arr1 % 2 == 0] = -1\n",
    "print(arr1)\n",
    "\n",
    "# Q2\n",
    "print(arr2[1, 2]) # [1][2]\n",
    "\n",
    "# Q3\n",
    "arr3 = np.random.rand(4, 4)\n",
    "print(arr3)\n",
    "print()\n",
    "print(arr3[:, :-1])\n",
    "print()\n",
    "print(np.sum(arr3[:, :-1], axis=1))\n",
    "print()\n",
    "arr3[:, -1] = np.sum(arr3[:, :-1], axis=1)\n",
    "print(arr3)"
   ]
  }
 ],
 "metadata": {
  "kernelspec": {
   "display_name": "Python 3",
   "language": "python",
   "name": "python3"
  },
  "language_info": {
   "codemirror_mode": {
    "name": "ipython",
    "version": 3
   },
   "file_extension": ".py",
   "mimetype": "text/x-python",
   "name": "python",
   "nbconvert_exporter": "python",
   "pygments_lexer": "ipython3",
   "version": "3.11.4"
  }
 },
 "nbformat": 4,
 "nbformat_minor": 2
}
