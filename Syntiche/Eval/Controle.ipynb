{
 "cells": [
  {
   "cell_type": "markdown",
   "metadata": {},
   "source": [
    "# Contrôle pratique sur NumPy, Pandas et Matplotlib"
   ]
  },
  {
   "cell_type": "markdown",
   "metadata": {},
   "source": []
  },
  {
   "cell_type": "code",
   "execution_count": 190,
   "metadata": {},
   "outputs": [],
   "source": [
    "import numpy as np\n",
    "import matplotlib.pyplot as plt \n",
    "import pandas as pd"
   ]
  },
  {
   "cell_type": "markdown",
   "metadata": {},
   "source": [
    "### Partie 1: NumPy"
   ]
  },
  {
   "cell_type": "markdown",
   "metadata": {},
   "source": [
    "1. Créez un tableau NumPy contenant les nombres de 1 à 10."
   ]
  },
  {
   "cell_type": "code",
   "execution_count": 191,
   "metadata": {},
   "outputs": [
    {
     "data": {
      "text/plain": [
       "array([ 1,  2,  3,  4,  5,  6,  7,  8,  9, 10])"
      ]
     },
     "execution_count": 191,
     "metadata": {},
     "output_type": "execute_result"
    }
   ],
   "source": [
    "a = np.array([1, 2, 3, 4, 5, 6, 7, 8, 9, 10])\n",
    "a"
   ]
  },
  {
   "cell_type": "markdown",
   "metadata": {},
   "source": [
    "2. Calculez la somme, la moyenne et la médiane des éléments du tableau de l'exercice précédent."
   ]
  },
  {
   "cell_type": "code",
   "execution_count": 192,
   "metadata": {},
   "outputs": [
    {
     "name": "stdout",
     "output_type": "stream",
     "text": [
      "55\n",
      "5.5\n",
      "5.5\n"
     ]
    }
   ],
   "source": [
    "somme = np.sum(a)\n",
    "print(somme)\n",
    "moyenne = np.mean(a)\n",
    "print(moyenne)\n",
    "mediane = np.median(a) ###############################\n",
    "print(mediane)\n"
   ]
  },
  {
   "cell_type": "markdown",
   "metadata": {},
   "source": [
    "3. Écrivez une fonction pour inverser un tableau NumPy donné. Vérifiez que l'inversion fonctionne correctement."
   ]
  },
  {
   "cell_type": "code",
   "execution_count": 193,
   "metadata": {},
   "outputs": [
    {
     "data": {
      "text/plain": [
       "array([10,  9,  8,  7,  6,  5,  4,  3,  2,  1])"
      ]
     },
     "execution_count": 193,
     "metadata": {},
     "output_type": "execute_result"
    }
   ],
   "source": [
    "def inversion(tab):\n",
    "    return np.flip(tab)\n",
    "\n",
    "inversion(a)"
   ]
  },
  {
   "cell_type": "markdown",
   "metadata": {},
   "source": [
    "4. Créez un tableau 2D de taille 5x5 où chaque élément est le résultat de la multiplication des indices de ligne et de colonne. Affichez le tableau."
   ]
  },
  {
   "cell_type": "code",
   "execution_count": 194,
   "metadata": {},
   "outputs": [
    {
     "data": {
      "text/plain": [
       "[[0, 0, 0, 0, 0],\n",
       " [0, 1, 2, 3, 4],\n",
       " [0, 2, 4, 6, 8],\n",
       " [0, 3, 6, 9, 12],\n",
       " [0, 4, 8, 12, 16]]"
      ]
     },
     "execution_count": 194,
     "metadata": {},
     "output_type": "execute_result"
    }
   ],
   "source": [
    "b = [\n",
    "    [0, 0, 0, 0, 0],\n",
    "    [0, 1, 2, 3, 4],\n",
    "    [0, 2, 4, 6, 8],\n",
    "    [0, 3, 6, 9, 12],\n",
    "    [0, 4, 8, 12, 16]]\n",
    "b"
   ]
  },
  {
   "cell_type": "markdown",
   "metadata": {},
   "source": [
    "5. Implémentez une fonction qui calcule la multiplication matricielle de deux matrices NumPy sans utiliser la fonction `np.dot`, donc vous devez coder le produit de deux matrices vous-mêmes. Vérifiez que la multiplication fonctionne avec succès pour deux matrices compatibles."
   ]
  },
  {
   "cell_type": "code",
   "execution_count": 195,
   "metadata": {},
   "outputs": [
    {
     "name": "stdout",
     "output_type": "stream",
     "text": [
      "[[2, 0], [0, 2]]\n",
      "[[0, 1], [1, 0]]\n"
     ]
    }
   ],
   "source": [
    "def multi_matriciel(tab1, tab2):\n",
    "    large = min(len(tab1), len(tab2))\n",
    "    long = min(len(tab1[0]), len(tab2[0]))\n",
    "    tab = [[0 for i in range(long)] for i in range(large)]\n",
    "    for i in range(large):\n",
    "        for j in range(long):\n",
    "            try:\n",
    "                x = tab2[i][j]\n",
    "            except:\n",
    "                x = 1\n",
    "            try:\n",
    "                y = tab1[i][j]\n",
    "            except:\n",
    "                y = 1\n",
    "            tab[i][j] = x * y        \n",
    "    return tab\n",
    "    \n",
    "\n",
    "Y = np.array([[2, 1], [1, 2]])\n",
    "X = np.array([[1, 0], [0, 1]])\n",
    "\n",
    "A = np.array([[0, 1, 1], [1, 0, 1]])\n",
    "B = np.array([[1, 1], [1, 1], [-1, 1]])\n",
    "\n",
    "print(multi_matriciel(X, Y)) # [[2, 0], [0, 2]]\n",
    "print(multi_matriciel(A, B)) # [[0, 2],[0, 2]]"
   ]
  },
  {
   "cell_type": "markdown",
   "metadata": {},
   "source": [
    "## Partie 2: Pandas "
   ]
  },
  {
   "cell_type": "markdown",
   "metadata": {},
   "source": [
    "Le fichier 'titanic.csv' est un jeu de données classique dans le domaine de l'apprentissage automatique et de l'analyse de données. Il contient des informations sur les passagers à bord du célèbre navire Titanic, y compris des détails tels que leur âge, leur sexe, leur classe de billet, leur statut de survie, etc. Voici une explication des principales colonnes que l'on trouve dans ce jeu de données :\n",
    "\n",
    "1. **PassengerId**: Un identifiant unique attribué à chaque passager.\n",
    "2. **Survived**: Indique si le passager a survécu ou non. 1 signifie \"survécu\" et 0 signifie \"décédé\".\n",
    "3. **Pclass**: La classe de billet du passager. Il y a trois classes : 1ère classe, 2ème classe et 3ème classe.\n",
    "4. **Name**: Le nom du passager.\n",
    "5. **Sex**: Le sexe du passager, soit 'male' pour masculin, soit 'female' pour féminin.\n",
    "6. **Age**: L'âge du passager en années.\n",
    "7. **SibSp**: Le nombre de frères et sœurs (ou conjoints) à bord du Titanic.\n",
    "8. **Parch**: Le nombre de parents/enfants à bord du Titanic.\n",
    "9. **Ticket**: Le numéro de billet du passager.\n",
    "10. **Fare**: Le tarif payé par le passager pour le voyage.\n",
    "11. **Cabin**: Le numéro de cabine du passager, s'il est connu.\n",
    "12. **Embarked**: Le port d'embarquement du passager. C'est une abréviation de trois ports possibles : 'C' pour Cherbourg, 'Q' pour Queenstown, 'S' pour Southampton."
   ]
  },
  {
   "cell_type": "code",
   "execution_count": 196,
   "metadata": {},
   "outputs": [
    {
     "data": {
      "text/html": [
       "<div>\n",
       "<style scoped>\n",
       "    .dataframe tbody tr th:only-of-type {\n",
       "        vertical-align: middle;\n",
       "    }\n",
       "\n",
       "    .dataframe tbody tr th {\n",
       "        vertical-align: top;\n",
       "    }\n",
       "\n",
       "    .dataframe thead th {\n",
       "        text-align: right;\n",
       "    }\n",
       "</style>\n",
       "<table border=\"1\" class=\"dataframe\">\n",
       "  <thead>\n",
       "    <tr style=\"text-align: right;\">\n",
       "      <th></th>\n",
       "      <th>pclass</th>\n",
       "      <th>survived</th>\n",
       "      <th>name</th>\n",
       "      <th>sex</th>\n",
       "      <th>age</th>\n",
       "      <th>sibsp</th>\n",
       "      <th>parch</th>\n",
       "      <th>fare</th>\n",
       "      <th>cabin</th>\n",
       "      <th>embarked</th>\n",
       "    </tr>\n",
       "  </thead>\n",
       "  <tbody>\n",
       "    <tr>\n",
       "      <th>0</th>\n",
       "      <td>1</td>\n",
       "      <td>1</td>\n",
       "      <td>Allen, Miss. Elisabeth Walton</td>\n",
       "      <td>female</td>\n",
       "      <td>29.0000</td>\n",
       "      <td>0</td>\n",
       "      <td>0</td>\n",
       "      <td>211.3375</td>\n",
       "      <td>B5</td>\n",
       "      <td>S</td>\n",
       "    </tr>\n",
       "    <tr>\n",
       "      <th>1</th>\n",
       "      <td>1</td>\n",
       "      <td>1</td>\n",
       "      <td>Allison, Master. Hudson Trevor</td>\n",
       "      <td>male</td>\n",
       "      <td>0.9167</td>\n",
       "      <td>1</td>\n",
       "      <td>2</td>\n",
       "      <td>151.5500</td>\n",
       "      <td>C22 C26</td>\n",
       "      <td>S</td>\n",
       "    </tr>\n",
       "  </tbody>\n",
       "</table>\n",
       "</div>"
      ],
      "text/plain": [
       "   pclass  survived                            name     sex      age  sibsp  \\\n",
       "0       1         1   Allen, Miss. Elisabeth Walton  female  29.0000      0   \n",
       "1       1         1  Allison, Master. Hudson Trevor    male   0.9167      1   \n",
       "\n",
       "   parch      fare    cabin embarked  \n",
       "0      0  211.3375       B5        S  \n",
       "1      2  151.5500  C22 C26        S  "
      ]
     },
     "execution_count": 196,
     "metadata": {},
     "output_type": "execute_result"
    }
   ],
   "source": [
    "# Chargement du jeu de données\n",
    "titanic_df = pd.read_csv('titanic.csv')\n",
    "titanic_df.head(2)"
   ]
  },
  {
   "cell_type": "markdown",
   "metadata": {},
   "source": [
    "1. Calculez le nombre total de passagers dans le dataset et le nombre de passagers survivants. Ensuite, déterminez le taux de survie global (en pourcentage)."
   ]
  },
  {
   "cell_type": "code",
   "execution_count": 197,
   "metadata": {},
   "outputs": [
    {
     "name": "stdout",
     "output_type": "stream",
     "text": [
      "1309\n",
      "500\n",
      "Il y a eu un taut de survi de 38.19709702062643 %\n"
     ]
    }
   ],
   "source": [
    "nbr_total = titanic_df.shape[0]\n",
    "surviv = titanic_df[titanic_df['survived'] == 1]\n",
    "survivant = surviv.shape[0]\n",
    "print(nbr_total)\n",
    "print(survivant)\n",
    "print(\"Il y a eu un taut de survi de \"+ str(survivant * 100 / nbr_total) + \" %\")"
   ]
  },
  {
   "cell_type": "markdown",
   "metadata": {},
   "source": [
    "2. Calculez la proportion de passagers survivants par classe (pclass) et affichez les résultats."
   ]
  },
  {
   "cell_type": "code",
   "execution_count": 198,
   "metadata": {},
   "outputs": [
    {
     "name": "stdout",
     "output_type": "stream",
     "text": [
      "pclass\n",
      "1    200\n",
      "2    119\n",
      "3    181\n",
      "Name: survived, dtype: int64\n",
      "Il y a eu un taut de survi de 40.0 % pour la classe 1\n",
      "Il y a eu un taut de survi de 23.8 % pour la classe 2\n",
      "Il y a eu un taut de survi de 36.2 % pour la classe 3\n"
     ]
    }
   ],
   "source": [
    "surviv_pclass = titanic_df.groupby('pclass')['survived'].sum()\n",
    "print(surviv_pclass)\n",
    "print(\"Il y a eu un taut de survi de \"+ str(200 * 100 / 500) + \" % pour la classe 1\")\n",
    "print(\"Il y a eu un taut de survi de \"+ str(119 * 100 / 500) + \" % pour la classe 2\")\n",
    "print(\"Il y a eu un taut de survi de \"+ str(181 * 100 / 500) + \" % pour la classe 3\")"
   ]
  },
  {
   "cell_type": "markdown",
   "metadata": {},
   "source": [
    "3. Calculez la moyenne, la médiane, l'écart type des tarifs des billets ('fare') payés par les passagers. Ensuite, identifiez le passager ayant payé le tarif le plus élevé."
   ]
  },
  {
   "cell_type": "code",
   "execution_count": 199,
   "metadata": {},
   "outputs": [
    {
     "name": "stdout",
     "output_type": "stream",
     "text": [
      "33.281085637891515\n",
      "51.721732240627894\n",
      "14.4542\n"
     ]
    }
   ],
   "source": [
    "moyenne = np.mean(titanic_df['fare'])\n",
    "print(moyenne)\n",
    "ecart = np.std(titanic_df['fare'])\n",
    "print(ecart)\n",
    "mediane = np.median(titanic_df['fare'])\n",
    "print(mediane)"
   ]
  },
  {
   "cell_type": "markdown",
   "metadata": {},
   "source": [
    "4. Créez une nouvelle colonne 'Famille' dans le DataFrame qui représente la taille de la famille de chaque passager (somme des colonnes 'sibsp' et 'parch'). Ensuite, créez une nouvelle colonne 'EstEnfant' qui indique si le passager est un enfant (âge < 18) ou non."
   ]
  },
  {
   "cell_type": "code",
   "execution_count": 200,
   "metadata": {},
   "outputs": [
    {
     "name": "stdout",
     "output_type": "stream",
     "text": [
      "   pclass  survived                                             name     sex  \\\n",
      "0       1         1                    Allen, Miss. Elisabeth Walton  female   \n",
      "1       1         1                   Allison, Master. Hudson Trevor    male   \n",
      "2       1         0                     Allison, Miss. Helen Loraine  female   \n",
      "3       1         0             Allison, Mr. Hudson Joshua Creighton    male   \n",
      "4       1         0  Allison, Mrs. Hudson J C (Bessie Waldo Daniels)  female   \n",
      "5       1         1                              Anderson, Mr. Harry    male   \n",
      "6       1         1                Andrews, Miss. Kornelia Theodosia  female   \n",
      "7       1         0                           Andrews, Mr. Thomas Jr    male   \n",
      "8       1         1    Appleton, Mrs. Edward Dale (Charlotte Lamson)  female   \n",
      "9       1         0                          Artagaveytia, Mr. Ramon    male   \n",
      "\n",
      "       age  sibsp  parch      fare    cabin embarked  Famille EstEnfant  \n",
      "0  29.0000      0      0  211.3375       B5        S        0     False  \n",
      "1   0.9167      1      2  151.5500  C22 C26        S        3      True  \n",
      "2   2.0000      1      2  151.5500  C22 C26        S        3      True  \n",
      "3  30.0000      1      2  151.5500  C22 C26        S        3     False  \n",
      "4  25.0000      1      2  151.5500  C22 C26        S        3     False  \n",
      "5  48.0000      0      0   26.5500      E12        S        0     False  \n",
      "6  63.0000      1      0   77.9583       D7        S        1     False  \n",
      "7  39.0000      0      0    0.0000      A36        S        0     False  \n",
      "8  53.0000      2      0   51.4792     C101        S        2     False  \n",
      "9  71.0000      0      0   49.5042      NaN        C        0     False  \n"
     ]
    }
   ],
   "source": [
    "titanic_df['Famille'] = titanic_df['sibsp'] + titanic_df['parch']\n",
    "\n",
    "bins = [0, 18, np.inf]\n",
    "labels = [True, False]\n",
    "titanic_df['EstEnfant'] = pd.cut(titanic_df['age'], bins=bins, labels=labels)\n",
    "\n",
    "print(titanic_df.head(10))\n"
   ]
  },
  {
   "cell_type": "markdown",
   "metadata": {},
   "source": [
    "5. Identifiez le nom le plus fréquent parmi les passagers et affichez-le."
   ]
  },
  {
   "cell_type": "code",
   "execution_count": 201,
   "metadata": {},
   "outputs": [
    {
     "name": "stdout",
     "output_type": "stream",
     "text": [
      "['Allen', ' Miss. Elisabeth Walton']\n"
     ]
    }
   ],
   "source": [
    "# truc = titanic_df.groupby(titanic_df['name'].split()[0]) \n",
    "print(titanic_df['name'][0].split(','))\n",
    "# titanic_df['Nom'] = np.where(titanic_df['name'].split()[0] > moyenne_age, titanic_df['Nom'].str.upper(), titanic_df['Nom'])\n",
    "titanic_df['Nom'] = [titanic_df['name'][i].split()[0] for i in range(titanic_df.shape[0])]\n",
    "truc = titanic_df.groupby('Nom')"
   ]
  },
  {
   "cell_type": "markdown",
   "metadata": {},
   "source": [
    "## Partie 3: Matplotlib"
   ]
  },
  {
   "cell_type": "markdown",
   "metadata": {},
   "source": [
    "1. Utilisez Matplotlib pour tracer un graphique à barres empilées montrant le nombre de passagers survivants et décédés par classe. Ajoutez des étiquettes appropriées pour les axes et un titre au graphique."
   ]
  },
  {
   "cell_type": "code",
   "execution_count": 212,
   "metadata": {},
   "outputs": [
    {
     "data": {
      "image/png": "[encoded data removed]",
      "text/plain": [
       "<Figure size 640x480 with 1 Axes>"
      ]
     },
     "metadata": {},
     "output_type": "display_data"
    }
   ],
   "source": [
    "pivot_table = titanic_df.pivot_table(columns='survived', values= 'pclass', aggfunc='sum')\n",
    "pivot_table.plot(kind='bar', stacked=True)\n",
    "\n",
    "plt.title('Nombre de passager survivant et décéder par classe')\n",
    "plt.xlabel('Classe')\n",
    "plt.ylabel('Nombres')\n",
    "plt.legend(title='survived')\n",
    "plt.xticks(rotation=45)\n",
    "plt.show()"
   ]
  },
  {
   "cell_type": "markdown",
   "metadata": {},
   "source": [
    "2. Tracez un histogramme montrant la distribution des âges des passagers du Titanic. Choisissez un nombre approprié de compartiments pour mieux visualiser la répartition des âges."
   ]
  },
  {
   "cell_type": "code",
   "execution_count": null,
   "metadata": {},
   "outputs": [
    {
     "data": {
      "image/png": "[encoded data removed]",
      "text/plain": [
       "<Figure size 640x480 with 1 Axes>"
      ]
     },
     "metadata": {},
     "output_type": "display_data"
    }
   ],
   "source": [
    "\n",
    "\n",
    "plt.bar(titanic_df['EstEnfant'], titanic_df['age'], color='skyblue')\n",
    "plt.title('Repartition des ages')\n",
    "plt.xlabel('Est Enfant')\n",
    "plt.ylabel('Nombre')\n",
    "plt.xticks(rotation=45)\n",
    "plt.show()"
   ]
  },
  {
   "cell_type": "markdown",
   "metadata": {},
   "source": [
    "3. Tracez un nuage de points (scatter plot) représentant l'âge des passagers en fonction du prix du billet ('Fare'). Coloriez les points en fonction du sexe du passager."
   ]
  },
  {
   "cell_type": "code",
   "execution_count": null,
   "metadata": {},
   "outputs": [
    {
     "data": {
      "image/png": "[encoded data removed]",
      "text/plain": [
       "<Figure size 640x480 with 1 Axes>"
      ]
     },
     "metadata": {},
     "output_type": "display_data"
    }
   ],
   "source": [
    "# plt.scatter(x=titanic_df['age'], y=titanic_df['fare'], s=titanic_df['sex'], c=['blue', 'red'])\n",
    "plt.scatter(x=titanic_df['age'], y=titanic_df['fare'],)\n",
    "plt.title('Repartition des ages')\n",
    "plt.xlabel('age')\n",
    "plt.ylabel('prix du billet')\n",
    "plt.xticks(rotation=45)\n",
    "plt.show()"
   ]
  }
 ],
 "metadata": {
  "kernelspec": {
   "display_name": "Python 3",
   "language": "python",
   "name": "python3"
  },
  "language_info": {
   "codemirror_mode": {
    "name": "ipython",
    "version": 3
   },
   "file_extension": ".py",
   "mimetype": "text/x-python",
   "name": "python",
   "nbconvert_exporter": "python",
   "pygments_lexer": "ipython3",
   "version": "3.11.4"
  }
 },
 "nbformat": 4,
 "nbformat_minor": 2
}
